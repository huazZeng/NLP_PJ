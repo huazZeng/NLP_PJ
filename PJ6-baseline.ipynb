{
 "cells": [
  {
   "cell_type": "markdown",
   "metadata": {},
   "source": [
    "# PJ6\n",
    "\n",
    "## data & model \n",
    "* dataset define"
   ]
  },
  {
   "cell_type": "code",
   "execution_count": null,
   "metadata": {},
   "outputs": [],
   "source": [
    "class GSM8KDataset(Dataset):\n",
    "    def __init__(self, dataset, tokenizer, prompt=\"解答以下数学问题：\", max_length=512):\n",
    "        self.dataset = dataset\n",
    "        self.tokenizer = tokenizer\n",
    "        self.max_length = max_length\n",
    "        self.prompt = prompt\n",
    "\n",
    "        # 预先对 prompt 进行编码\n",
    "        self.prompt_ids = tokenizer(self.prompt, padding=\"max_length\", truncation=True, max_length=self.max_length, return_tensors=\"pt\")[\"input_ids\"].squeeze(0)\n",
    "\n",
    "    def __len__(self):\n",
    "        return len(self.dataset)\n",
    "\n",
    "    def __getitem__(self, idx):\n",
    "        item = self.dataset[idx]\n",
    "        question = item[\"question\"]\n",
    "        answer = item[\"answer\"]\n",
    "\n",
    "        # 对问题进行tokenization，保持最大长度\n",
    "        inputs = self.tokenizer(question, padding=\"max_length\", truncation=True, max_length=self.max_length, return_tensors=\"pt\")\n",
    "\n",
    "        # 拼接编码后的 prompt 和问题的 input_ids\n",
    "        input_ids = torch.cat((self.prompt_ids, inputs[\"input_ids\"].squeeze(0)), dim=0)\n",
    "        attention_mask = torch.cat((torch.ones_like(self.prompt_ids), inputs[\"attention_mask\"].squeeze(0)), dim=0)\n",
    "\n",
    "        return {\n",
    "            \"input_ids\": input_ids,\n",
    "            \"attention_mask\": attention_mask,\n",
    "            \"answer\": answer\n",
    "        }"
   ]
  },
  {
   "cell_type": "code",
   "execution_count": null,
   "metadata": {},
   "outputs": [
    {
     "data": {
      "application/vnd.jupyter.widget-view+json": {
       "model_id": "08fb8447d0b74b45ba55b78a0f76ab9f",
       "version_major": 2,
       "version_minor": 0
      },
      "text/plain": [
       "Downloading readme: 0.00B [00:00, ?B/s]"
      ]
     },
     "metadata": {},
     "output_type": "display_data"
    },
    {
     "data": {
      "application/vnd.jupyter.widget-view+json": {
       "model_id": "3c7c649d5a88413ab8b4764cc428a0b6",
       "version_major": 2,
       "version_minor": 0
      },
      "text/plain": [
       "Downloading data:   0%|          | 0.00/2.31M [00:00<?, ?B/s]"
      ]
     },
     "metadata": {},
     "output_type": "display_data"
    },
    {
     "data": {
      "application/vnd.jupyter.widget-view+json": {
       "model_id": "e1367e82d06f4241974ed5b5283841ec",
       "version_major": 2,
       "version_minor": 0
      },
      "text/plain": [
       "Downloading data:   0%|          | 0.00/419k [00:00<?, ?B/s]"
      ]
     },
     "metadata": {},
     "output_type": "display_data"
    },
    {
     "data": {
      "application/vnd.jupyter.widget-view+json": {
       "model_id": "2dfd697c2f1746fb8de651edab06a1d1",
       "version_major": 2,
       "version_minor": 0
      },
      "text/plain": [
       "Generating train split:   0%|          | 0/7473 [00:00<?, ? examples/s]"
      ]
     },
     "metadata": {},
     "output_type": "display_data"
    },
    {
     "data": {
      "application/vnd.jupyter.widget-view+json": {
       "model_id": "c61c0f536f114aa2996e0d61debd6d6e",
       "version_major": 2,
       "version_minor": 0
      },
      "text/plain": [
       "Generating test split:   0%|          | 0/1319 [00:00<?, ? examples/s]"
      ]
     },
     "metadata": {},
     "output_type": "display_data"
    },
    {
     "name": "stdout",
     "output_type": "stream",
     "text": [
      "当前设备: cuda\n"
     ]
    },
    {
     "name": "stderr",
     "output_type": "stream",
     "text": [
      "Special tokens have been added in the vocabulary, make sure the associated word embeddings are fine-tuned or trained.\n"
     ]
    }
   ],
   "source": [
    "from datasets import load_dataset\n",
    "\n",
    "ds = load_dataset(\"openai/gsm8k\", \"main\", cache_dir=\"F:/dataset\")\n",
    "\n",
    "from transformers import AutoModelForCausalLM, AutoTokenizer\n",
    "import torch\n",
    "import re\n",
    "# 创建一个设备对象\n",
    "device = torch.device(\"cuda\" if torch.cuda.is_available() else \"cpu\")\n",
    "print(f\"当前设备: {device}\")\n",
    "model_name = \"Qwen/Qwen2.5-0.5B-Instruct\"\n",
    "cache_directory = \"F:/model\"  # 指定你想要的缓存目录\n",
    "\n",
    "# 加载模型和分词器\n",
    "model = AutoModelForCausalLM.from_pretrained(\n",
    "    model_name,\n",
    "    torch_dtype=\"auto\",\n",
    "    device_map=device,\n",
    "    cache_dir=cache_directory  # 添加此行\n",
    ")\n",
    "tokenizer = AutoTokenizer.from_pretrained(model_name, cache_dir=cache_directory,device_map=device)  # 添加此行"
   ]
  },
  {
   "cell_type": "code",
   "execution_count": null,
   "metadata": {},
   "outputs": [],
   "source": [
    "prompt = \"解答以下数学问题：\"\n",
    "dataset = GSM8KDataset(test_data, tokenizer)\n",
    "dataloader = DataLoader(dataset, batch_size=8, prompt=prompt,shuffle=False)\n",
    "\n",
    "# 评估函数：比较模型生成的答案与真实答案\n",
    "def evaluate_accuracy(pred, true):\n",
    "    return pred.strip() == true.strip()\n",
    "\n",
    "# 计算总的准确率\n",
    "correct = 0\n",
    "total = 0\n",
    "\n",
    "# 推理并评估准确率\n",
    "for batch in dataloader:\n",
    "    input_ids = batch[\"input_ids\"].to(device)\n",
    "    attention_mask = batch[\"attention_mask\"].to(device)\n",
    "    true_answers = batch[\"answer\"]\n",
    "    \n",
    "    # 推理\n",
    "    with torch.no_grad():\n",
    "        outputs = model.generate(input_ids, attention_mask=attention_mask, max_length=100)\n",
    "    \n",
    "    # 解码生成的答案\n",
    "    generated_answers = tokenizer.batch_decode(outputs, skip_special_tokens=True)\n",
    "    \n",
    "    # 检查生成的答案与真实答案是否匹配\n",
    "    for generated_answer, true_answer in zip(generated_answers, true_answers):\n",
    "        if evaluate_accuracy(generated_answer, true_answer):\n",
    "            correct += 1\n",
    "        total += 1\n",
    "\n",
    "    # 打印进度\n",
    "    print(f\"已处理 {total} 条数据\")\n",
    "\n",
    "# 计算准确率\n",
    "accuracy = correct / total\n",
    "print(f\"模型准确率: {accuracy:.4f}\")"
   ]
  }
 ],
 "metadata": {
  "kernelspec": {
   "display_name": "Python 3",
   "language": "python",
   "name": "python3"
  },
  "language_info": {
   "codemirror_mode": {
    "name": "ipython",
    "version": 3
   },
   "file_extension": ".py",
   "mimetype": "text/x-python",
   "name": "python",
   "nbconvert_exporter": "python",
   "pygments_lexer": "ipython3",
   "version": "3.11.2"
  }
 },
 "nbformat": 4,
 "nbformat_minor": 2
}
