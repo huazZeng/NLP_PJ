{
 "cells": [
  {
   "cell_type": "markdown",
   "metadata": {},
   "source": [
    "# 基于LLM微调的数学推理任务"
   ]
  },
  {
   "cell_type": "code",
   "execution_count": 1,
   "metadata": {},
   "outputs": [
    {
     "name": "stderr",
     "output_type": "stream",
     "text": [
      "2024-12-07 17:00:22.043479: I tensorflow/core/platform/cpu_feature_guard.cc:210] This TensorFlow binary is optimized to use available CPU instructions in performance-critical operations.\n",
      "To enable the following instructions: AVX2 FMA, in other operations, rebuild TensorFlow with the appropriate compiler flags.\n",
      "2024-12-07 17:00:23.579296: W tensorflow/compiler/tf2tensorrt/utils/py_utils.cc:38] TF-TRT Warning: Could not find TensorRT\n"
     ]
    }
   ],
   "source": [
    "import os \n",
    "from tqdm import tqdm\n",
    "import re\n",
    "from transformers import AutoModelForCausalLM, AutoTokenizer\n",
    "from torch.utils.data import Dataset\n",
    "import torch\n",
    "from torch.utils.data import DataLoader\n",
    "from torch.nn.functional import one_hot\n",
    "from sklearn.metrics import accuracy_score, f1_score\n",
    "from evaluate import load\n",
    "from datasets import load_dataset\n",
    "\n",
    "os.environ['HF_ENDPOINT'] = 'https://hf-mirror.com'"
   ]
  },
  {
   "cell_type": "code",
   "execution_count": 2,
   "metadata": {},
   "outputs": [],
   "source": [
    "# # 设置代理\n",
    "# import subprocess\n",
    "# import os\n",
    "\n",
    "# result = subprocess.run('bash -c \"source /etc/network_turbo && env | grep proxy\"', shell=True, capture_output=True, text=True)\n",
    "# output = result.stdout\n",
    "# for line in output.splitlines():\n",
    "#     if '=' in line:\n",
    "#         var, value = line.split('=', 1)\n",
    "#         os.environ[var] = value"
   ]
  },
  {
   "cell_type": "code",
   "execution_count": 3,
   "metadata": {},
   "outputs": [],
   "source": [
    "from datasets import load_dataset\n",
    "\n",
    "\n",
    "test_dataset = load_dataset('json', data_files='./MATH_test.jsonl',split='train')\n",
    "train_dataset = load_dataset('json', data_files='./MATH_train.jsonl', split='train')\n",
    "\n"
   ]
  },
  {
   "cell_type": "code",
   "execution_count": 4,
   "metadata": {},
   "outputs": [],
   "source": [
    "def get_dataloader(prompt, batch_size=1):\n",
    "    def preprocess(dataset, shuffle=True):\n",
    "        def collate_fn(batch):\n",
    "            questions =  [[{\"role\": \"user\", \"content\": prompt.format(text=item['problem'])}] for item in batch]\n",
    "            answers = [item[\"solution\"] for item in batch]\n",
    "            return questions, answers\n",
    "        return DataLoader(\n",
    "            dataset,\n",
    "            shuffle=shuffle,\n",
    "            batch_size=batch_size,\n",
    "            collate_fn=collate_fn,\n",
    "        )\n",
    "    testset = test_dataset\n",
    "    return preprocess(testset, shuffle=False)"
   ]
  },
  {
   "cell_type": "code",
   "execution_count": 22,
   "metadata": {},
   "outputs": [],
   "source": [
    " ## setup math_equivalence ： 在math工作目录中 pip install .\n",
    "import math_equivalence\n",
    "from modelscope import AutoModelForCausalLM, AutoTokenizer\n",
    "import torch\n",
    "from transformers import AutoModelForCausalLM, AutoTokenizer\n",
    "from tqdm import tqdm\n",
    "import json\n",
    "\n",
    "def eval_process(model_name, tokenizer_name, prompt, batch_size=1, ratio=1):\n",
    "    # 检查是否有可用的 GPU\n",
    "    device = torch.device(\"cuda\" if torch.cuda.is_available() else \"cpu\")\n",
    "    print(f\"Using device: {device}\")\n",
    "\n",
    "    # 加载模型和分词器到 GPU\n",
    "    model = AutoModelForCausalLM.from_pretrained(\n",
    "        model_name,\n",
    "        device_map=\"auto\",         # 如果有多个 GPU，可以自动分配\n",
    "        cache_dir='/autodl-tcachemp/'\n",
    "    ).to(device)  # 确保模型在 GPU 上\n",
    "\n",
    "    tokenizer = AutoTokenizer.from_pretrained(model_name)\n",
    "\n",
    "    # 加载数据\n",
    "    testloader = get_dataloader(prompt, batch_size)\n",
    "    print(testloader)\n",
    "    \n",
    "    answers = []\n",
    "    replies = []\n",
    "\n",
    "    # 遍历数据集\n",
    "    for idx, (texts, truths) in tqdm(enumerate(testloader), total=int(len(testloader) * ratio)):\n",
    "        if idx >= int(len(testloader) * ratio):\n",
    "            break\n",
    "\n",
    "        # 应用模板并生成输入\n",
    "        texts = [tokenizer.apply_chat_template(\n",
    "            text,\n",
    "            tokenize=False,\n",
    "            add_generation_prompt=True\n",
    "        ) for text in texts]\n",
    "\n",
    "        # 将输入张量移到 GPU 上\n",
    "        model_inputs = tokenizer(\n",
    "            texts,\n",
    "            return_tensors=\"pt\",\n",
    "            padding=True,\n",
    "            padding_side='left'\n",
    "        ).to(device)\n",
    "\n",
    "        # 在 GPU 上生成文本\n",
    "        with torch.no_grad():  # 禁用梯度计算，节省显存\n",
    "            generated_ids = model.generate(\n",
    "                **model_inputs,\n",
    "                max_new_tokens=256\n",
    "            )\n",
    "\n",
    "        # 截取生成的结果\n",
    "        generated_ids = [\n",
    "            output_ids[len(input_ids):]\n",
    "            for input_ids, output_ids in zip(model_inputs.input_ids, generated_ids)\n",
    "        ]\n",
    "\n",
    "        # 解码生成的结果\n",
    "        responses = tokenizer.batch_decode(generated_ids, skip_special_tokens=True)\n",
    "        replies.extend(responses)\n",
    "        answers.extend(truths)\n",
    "        print(len(replies))\n",
    "    # 计算正确率\n",
    "    # total = 0\n",
    "    # correct = 0\n",
    "    # for reply, answer in zip(replies, answers):\n",
    "    #     total += 1\n",
    "    #     if math_equivalence.is_equiv(reply, answer) :\n",
    "    #         correct += 1\n",
    "    # print(f\"正确率: {(correct / total) * 100: .2f}%\")\n",
    "    results = [{\"answer\": a, \"reply\": r} for a, r in zip(answers, replies)]\n",
    "    output_file = \"results.json\"\n",
    "    with open(output_file, \"w\", encoding=\"utf-8\") as f:\n",
    "        json.dump(results, f, ensure_ascii=False, indent=4)\n",
    "\n",
    "    print(f\"Results saved to {output_file}\")\n",
    "\n",
    "    return replies,answers\n"
   ]
  },
  {
   "cell_type": "code",
   "execution_count": null,
   "metadata": {},
   "outputs": [],
   "source": []
  },
  {
   "cell_type": "code",
   "execution_count": 23,
   "metadata": {
    "scrolled": true
   },
   "outputs": [
    {
     "name": "stdout",
     "output_type": "stream",
     "text": [
      "Using device: cuda\n",
      "<torch.utils.data.dataloader.DataLoader object at 0x7f82cf997c40>\n"
     ]
    },
    {
     "name": "stderr",
     "output_type": "stream",
     "text": [
      "  1%|          | 1/157 [00:15<40:16, 15.49s/it]"
     ]
    },
    {
     "name": "stdout",
     "output_type": "stream",
     "text": [
      "32\n"
     ]
    },
    {
     "name": "stderr",
     "output_type": "stream",
     "text": [
      "  1%|▏         | 2/157 [00:34<44:49, 17.35s/it]"
     ]
    },
    {
     "name": "stdout",
     "output_type": "stream",
     "text": [
      "64\n"
     ]
    },
    {
     "name": "stderr",
     "output_type": "stream",
     "text": [
      "  2%|▏         | 3/157 [00:49<42:31, 16.57s/it]"
     ]
    },
    {
     "name": "stdout",
     "output_type": "stream",
     "text": [
      "96\n"
     ]
    },
    {
     "name": "stderr",
     "output_type": "stream",
     "text": [
      "  3%|▎         | 4/157 [01:08<44:15, 17.36s/it]"
     ]
    },
    {
     "name": "stdout",
     "output_type": "stream",
     "text": [
      "128\n"
     ]
    },
    {
     "name": "stderr",
     "output_type": "stream",
     "text": [
      "  3%|▎         | 5/157 [01:22<40:59, 16.18s/it]"
     ]
    },
    {
     "name": "stdout",
     "output_type": "stream",
     "text": [
      "160\n"
     ]
    },
    {
     "name": "stderr",
     "output_type": "stream",
     "text": [
      "  4%|▍         | 6/157 [01:39<41:20, 16.43s/it]"
     ]
    },
    {
     "name": "stdout",
     "output_type": "stream",
     "text": [
      "192\n"
     ]
    },
    {
     "name": "stderr",
     "output_type": "stream",
     "text": [
      "  4%|▍         | 7/157 [01:51<37:56, 15.17s/it]"
     ]
    },
    {
     "name": "stdout",
     "output_type": "stream",
     "text": [
      "224\n"
     ]
    },
    {
     "name": "stderr",
     "output_type": "stream",
     "text": [
      "  5%|▌         | 8/157 [02:04<35:55, 14.47s/it]"
     ]
    },
    {
     "name": "stdout",
     "output_type": "stream",
     "text": [
      "256\n"
     ]
    },
    {
     "name": "stderr",
     "output_type": "stream",
     "text": [
      "  6%|▌         | 9/157 [02:17<34:22, 13.94s/it]"
     ]
    },
    {
     "name": "stdout",
     "output_type": "stream",
     "text": [
      "288\n"
     ]
    },
    {
     "name": "stderr",
     "output_type": "stream",
     "text": [
      "  6%|▋         | 10/157 [02:30<33:25, 13.64s/it]"
     ]
    },
    {
     "name": "stdout",
     "output_type": "stream",
     "text": [
      "320\n"
     ]
    },
    {
     "name": "stderr",
     "output_type": "stream",
     "text": [
      "  7%|▋         | 11/157 [02:43<32:34, 13.39s/it]"
     ]
    },
    {
     "name": "stdout",
     "output_type": "stream",
     "text": [
      "352\n"
     ]
    },
    {
     "name": "stderr",
     "output_type": "stream",
     "text": [
      "  8%|▊         | 12/157 [03:09<41:36, 17.22s/it]"
     ]
    },
    {
     "name": "stdout",
     "output_type": "stream",
     "text": [
      "384\n"
     ]
    },
    {
     "name": "stderr",
     "output_type": "stream",
     "text": [
      "  8%|▊         | 13/157 [03:22<38:31, 16.05s/it]"
     ]
    },
    {
     "name": "stdout",
     "output_type": "stream",
     "text": [
      "416\n"
     ]
    },
    {
     "name": "stderr",
     "output_type": "stream",
     "text": [
      "  9%|▉         | 14/157 [03:36<36:26, 15.29s/it]"
     ]
    },
    {
     "name": "stdout",
     "output_type": "stream",
     "text": [
      "448\n"
     ]
    },
    {
     "name": "stderr",
     "output_type": "stream",
     "text": [
      " 10%|▉         | 15/157 [04:00<42:36, 18.00s/it]"
     ]
    },
    {
     "name": "stdout",
     "output_type": "stream",
     "text": [
      "480\n"
     ]
    },
    {
     "name": "stderr",
     "output_type": "stream",
     "text": [
      " 10%|█         | 16/157 [04:13<38:37, 16.44s/it]"
     ]
    },
    {
     "name": "stdout",
     "output_type": "stream",
     "text": [
      "512\n"
     ]
    },
    {
     "name": "stderr",
     "output_type": "stream",
     "text": [
      " 11%|█         | 17/157 [04:27<36:43, 15.74s/it]"
     ]
    },
    {
     "name": "stdout",
     "output_type": "stream",
     "text": [
      "544\n"
     ]
    },
    {
     "name": "stderr",
     "output_type": "stream",
     "text": [
      " 11%|█▏        | 18/157 [04:40<34:30, 14.90s/it]"
     ]
    },
    {
     "name": "stdout",
     "output_type": "stream",
     "text": [
      "576\n"
     ]
    },
    {
     "name": "stderr",
     "output_type": "stream",
     "text": [
      " 12%|█▏        | 19/157 [05:06<41:48, 18.18s/it]"
     ]
    },
    {
     "name": "stdout",
     "output_type": "stream",
     "text": [
      "608\n"
     ]
    },
    {
     "name": "stderr",
     "output_type": "stream",
     "text": [
      " 13%|█▎        | 20/157 [05:19<37:54, 16.60s/it]"
     ]
    },
    {
     "name": "stdout",
     "output_type": "stream",
     "text": [
      "640\n"
     ]
    },
    {
     "name": "stderr",
     "output_type": "stream",
     "text": [
      " 13%|█▎        | 21/157 [05:31<34:57, 15.42s/it]"
     ]
    },
    {
     "name": "stdout",
     "output_type": "stream",
     "text": [
      "672\n"
     ]
    },
    {
     "name": "stderr",
     "output_type": "stream",
     "text": [
      " 14%|█▍        | 22/157 [05:48<35:20, 15.71s/it]"
     ]
    },
    {
     "name": "stdout",
     "output_type": "stream",
     "text": [
      "704\n"
     ]
    },
    {
     "name": "stderr",
     "output_type": "stream",
     "text": [
      " 15%|█▍        | 23/157 [06:06<36:56, 16.54s/it]"
     ]
    },
    {
     "name": "stdout",
     "output_type": "stream",
     "text": [
      "736\n"
     ]
    },
    {
     "name": "stderr",
     "output_type": "stream",
     "text": [
      " 15%|█▌        | 24/157 [06:19<34:24, 15.53s/it]"
     ]
    },
    {
     "name": "stdout",
     "output_type": "stream",
     "text": [
      "768\n"
     ]
    },
    {
     "name": "stderr",
     "output_type": "stream",
     "text": [
      " 16%|█▌        | 25/157 [06:41<37:53, 17.23s/it]"
     ]
    },
    {
     "name": "stdout",
     "output_type": "stream",
     "text": [
      "800\n"
     ]
    },
    {
     "name": "stderr",
     "output_type": "stream",
     "text": [
      " 17%|█▋        | 26/157 [06:54<34:53, 15.98s/it]"
     ]
    },
    {
     "name": "stdout",
     "output_type": "stream",
     "text": [
      "832\n"
     ]
    },
    {
     "name": "stderr",
     "output_type": "stream",
     "text": [
      " 17%|█▋        | 27/157 [07:08<33:19, 15.38s/it]"
     ]
    },
    {
     "name": "stdout",
     "output_type": "stream",
     "text": [
      "864\n"
     ]
    },
    {
     "name": "stderr",
     "output_type": "stream",
     "text": [
      " 18%|█▊        | 28/157 [07:21<31:32, 14.67s/it]"
     ]
    },
    {
     "name": "stdout",
     "output_type": "stream",
     "text": [
      "896\n"
     ]
    },
    {
     "name": "stderr",
     "output_type": "stream",
     "text": [
      " 18%|█▊        | 29/157 [07:34<30:33, 14.33s/it]"
     ]
    },
    {
     "name": "stdout",
     "output_type": "stream",
     "text": [
      "928\n"
     ]
    },
    {
     "name": "stderr",
     "output_type": "stream",
     "text": [
      " 19%|█▉        | 30/157 [07:52<32:15, 15.24s/it]"
     ]
    },
    {
     "name": "stdout",
     "output_type": "stream",
     "text": [
      "960\n"
     ]
    },
    {
     "name": "stderr",
     "output_type": "stream",
     "text": [
      " 20%|█▉        | 31/157 [08:05<30:49, 14.68s/it]"
     ]
    },
    {
     "name": "stdout",
     "output_type": "stream",
     "text": [
      "992\n"
     ]
    },
    {
     "name": "stderr",
     "output_type": "stream",
     "text": [
      " 20%|██        | 32/157 [08:18<29:31, 14.17s/it]"
     ]
    },
    {
     "name": "stdout",
     "output_type": "stream",
     "text": [
      "1024\n"
     ]
    },
    {
     "name": "stderr",
     "output_type": "stream",
     "text": [
      " 21%|██        | 33/157 [08:31<28:45, 13.91s/it]"
     ]
    },
    {
     "name": "stdout",
     "output_type": "stream",
     "text": [
      "1056\n"
     ]
    },
    {
     "name": "stderr",
     "output_type": "stream",
     "text": [
      " 22%|██▏       | 34/157 [08:46<28:59, 14.14s/it]"
     ]
    },
    {
     "name": "stdout",
     "output_type": "stream",
     "text": [
      "1088\n"
     ]
    },
    {
     "name": "stderr",
     "output_type": "stream",
     "text": [
      " 22%|██▏       | 35/157 [08:59<27:57, 13.75s/it]"
     ]
    },
    {
     "name": "stdout",
     "output_type": "stream",
     "text": [
      "1120\n"
     ]
    },
    {
     "name": "stderr",
     "output_type": "stream",
     "text": [
      " 23%|██▎       | 36/157 [09:12<27:11, 13.48s/it]"
     ]
    },
    {
     "name": "stdout",
     "output_type": "stream",
     "text": [
      "1152\n"
     ]
    },
    {
     "name": "stderr",
     "output_type": "stream",
     "text": [
      " 24%|██▎       | 37/157 [09:29<29:14, 14.62s/it]"
     ]
    },
    {
     "name": "stdout",
     "output_type": "stream",
     "text": [
      "1184\n"
     ]
    },
    {
     "name": "stderr",
     "output_type": "stream",
     "text": [
      " 24%|██▍       | 38/157 [09:43<28:24, 14.32s/it]"
     ]
    },
    {
     "name": "stdout",
     "output_type": "stream",
     "text": [
      "1216\n"
     ]
    },
    {
     "name": "stderr",
     "output_type": "stream",
     "text": [
      " 25%|██▍       | 39/157 [10:00<30:18, 15.41s/it]"
     ]
    },
    {
     "name": "stdout",
     "output_type": "stream",
     "text": [
      "1248\n"
     ]
    },
    {
     "name": "stderr",
     "output_type": "stream",
     "text": [
      " 25%|██▌       | 40/157 [10:19<31:42, 16.26s/it]"
     ]
    },
    {
     "name": "stdout",
     "output_type": "stream",
     "text": [
      "1280\n"
     ]
    },
    {
     "name": "stderr",
     "output_type": "stream",
     "text": [
      " 26%|██▌       | 41/157 [10:42<35:36, 18.42s/it]"
     ]
    },
    {
     "name": "stdout",
     "output_type": "stream",
     "text": [
      "1312\n"
     ]
    },
    {
     "name": "stderr",
     "output_type": "stream",
     "text": [
      " 27%|██▋       | 42/157 [11:06<38:34, 20.12s/it]"
     ]
    },
    {
     "name": "stdout",
     "output_type": "stream",
     "text": [
      "1344\n"
     ]
    },
    {
     "name": "stderr",
     "output_type": "stream",
     "text": [
      " 27%|██▋       | 43/157 [11:20<34:28, 18.15s/it]"
     ]
    },
    {
     "name": "stdout",
     "output_type": "stream",
     "text": [
      "1376\n"
     ]
    },
    {
     "name": "stderr",
     "output_type": "stream",
     "text": [
      " 28%|██▊       | 44/157 [11:40<35:27, 18.82s/it]"
     ]
    },
    {
     "name": "stdout",
     "output_type": "stream",
     "text": [
      "1408\n"
     ]
    },
    {
     "name": "stderr",
     "output_type": "stream",
     "text": [
      " 29%|██▊       | 45/157 [11:54<32:05, 17.19s/it]"
     ]
    },
    {
     "name": "stdout",
     "output_type": "stream",
     "text": [
      "1440\n"
     ]
    },
    {
     "name": "stderr",
     "output_type": "stream",
     "text": [
      " 29%|██▉       | 46/157 [12:13<32:57, 17.82s/it]"
     ]
    },
    {
     "name": "stdout",
     "output_type": "stream",
     "text": [
      "1472\n"
     ]
    },
    {
     "name": "stderr",
     "output_type": "stream",
     "text": [
      " 30%|██▉       | 47/157 [12:29<31:33, 17.21s/it]"
     ]
    },
    {
     "name": "stdout",
     "output_type": "stream",
     "text": [
      "1504\n"
     ]
    },
    {
     "name": "stderr",
     "output_type": "stream",
     "text": [
      " 31%|███       | 48/157 [13:06<42:09, 23.20s/it]"
     ]
    },
    {
     "name": "stdout",
     "output_type": "stream",
     "text": [
      "1536\n"
     ]
    },
    {
     "name": "stderr",
     "output_type": "stream",
     "text": [
      " 31%|███       | 49/157 [13:23<38:25, 21.34s/it]"
     ]
    },
    {
     "name": "stdout",
     "output_type": "stream",
     "text": [
      "1568\n"
     ]
    },
    {
     "name": "stderr",
     "output_type": "stream",
     "text": [
      " 32%|███▏      | 50/157 [13:39<35:32, 19.93s/it]"
     ]
    },
    {
     "name": "stdout",
     "output_type": "stream",
     "text": [
      "1600\n"
     ]
    },
    {
     "name": "stderr",
     "output_type": "stream",
     "text": [
      " 32%|███▏      | 51/157 [13:53<31:48, 18.00s/it]"
     ]
    },
    {
     "name": "stdout",
     "output_type": "stream",
     "text": [
      "1632\n"
     ]
    },
    {
     "name": "stderr",
     "output_type": "stream",
     "text": [
      " 33%|███▎      | 52/157 [14:08<30:00, 17.15s/it]"
     ]
    },
    {
     "name": "stdout",
     "output_type": "stream",
     "text": [
      "1664\n"
     ]
    },
    {
     "name": "stderr",
     "output_type": "stream",
     "text": [
      " 34%|███▍      | 53/157 [14:29<31:47, 18.34s/it]"
     ]
    },
    {
     "name": "stdout",
     "output_type": "stream",
     "text": [
      "1696\n"
     ]
    },
    {
     "name": "stderr",
     "output_type": "stream",
     "text": [
      " 34%|███▍      | 54/157 [14:47<30:55, 18.01s/it]"
     ]
    },
    {
     "name": "stdout",
     "output_type": "stream",
     "text": [
      "1728\n"
     ]
    },
    {
     "name": "stderr",
     "output_type": "stream",
     "text": [
      " 35%|███▌      | 55/157 [15:02<29:27, 17.33s/it]"
     ]
    },
    {
     "name": "stdout",
     "output_type": "stream",
     "text": [
      "1760\n"
     ]
    },
    {
     "name": "stderr",
     "output_type": "stream",
     "text": [
      " 36%|███▌      | 56/157 [15:20<29:15, 17.38s/it]"
     ]
    },
    {
     "name": "stdout",
     "output_type": "stream",
     "text": [
      "1792\n"
     ]
    },
    {
     "name": "stderr",
     "output_type": "stream",
     "text": [
      " 36%|███▋      | 57/157 [15:37<28:50, 17.30s/it]"
     ]
    },
    {
     "name": "stdout",
     "output_type": "stream",
     "text": [
      "1824\n"
     ]
    },
    {
     "name": "stderr",
     "output_type": "stream",
     "text": [
      " 37%|███▋      | 58/157 [15:56<29:17, 17.76s/it]"
     ]
    },
    {
     "name": "stdout",
     "output_type": "stream",
     "text": [
      "1856\n"
     ]
    },
    {
     "name": "stderr",
     "output_type": "stream",
     "text": [
      " 38%|███▊      | 59/157 [16:27<35:40, 21.85s/it]"
     ]
    },
    {
     "name": "stdout",
     "output_type": "stream",
     "text": [
      "1888\n"
     ]
    },
    {
     "name": "stderr",
     "output_type": "stream",
     "text": [
      " 38%|███▊      | 60/157 [16:46<33:40, 20.83s/it]"
     ]
    },
    {
     "name": "stdout",
     "output_type": "stream",
     "text": [
      "1920\n"
     ]
    },
    {
     "name": "stderr",
     "output_type": "stream",
     "text": [
      " 39%|███▉      | 61/157 [17:08<33:58, 21.24s/it]"
     ]
    },
    {
     "name": "stdout",
     "output_type": "stream",
     "text": [
      "1952\n"
     ]
    },
    {
     "name": "stderr",
     "output_type": "stream",
     "text": [
      " 39%|███▉      | 62/157 [17:24<31:13, 19.72s/it]"
     ]
    },
    {
     "name": "stdout",
     "output_type": "stream",
     "text": [
      "1984\n"
     ]
    },
    {
     "name": "stderr",
     "output_type": "stream",
     "text": [
      " 40%|████      | 63/157 [17:43<30:40, 19.58s/it]"
     ]
    },
    {
     "name": "stdout",
     "output_type": "stream",
     "text": [
      "2016\n"
     ]
    },
    {
     "name": "stderr",
     "output_type": "stream",
     "text": [
      " 41%|████      | 64/157 [18:01<29:34, 19.08s/it]"
     ]
    },
    {
     "name": "stdout",
     "output_type": "stream",
     "text": [
      "2048\n"
     ]
    },
    {
     "name": "stderr",
     "output_type": "stream",
     "text": [
      " 41%|████▏     | 65/157 [18:18<28:20, 18.48s/it]"
     ]
    },
    {
     "name": "stdout",
     "output_type": "stream",
     "text": [
      "2080\n"
     ]
    },
    {
     "name": "stderr",
     "output_type": "stream",
     "text": [
      " 42%|████▏     | 66/157 [18:37<28:05, 18.52s/it]"
     ]
    },
    {
     "name": "stdout",
     "output_type": "stream",
     "text": [
      "2112\n"
     ]
    },
    {
     "name": "stderr",
     "output_type": "stream",
     "text": [
      " 43%|████▎     | 67/157 [18:55<27:44, 18.50s/it]"
     ]
    },
    {
     "name": "stdout",
     "output_type": "stream",
     "text": [
      "2144\n"
     ]
    },
    {
     "name": "stderr",
     "output_type": "stream",
     "text": [
      " 43%|████▎     | 68/157 [19:23<31:39, 21.34s/it]"
     ]
    },
    {
     "name": "stdout",
     "output_type": "stream",
     "text": [
      "2176\n"
     ]
    },
    {
     "name": "stderr",
     "output_type": "stream",
     "text": [
      " 44%|████▍     | 69/157 [19:37<27:56, 19.05s/it]"
     ]
    },
    {
     "name": "stdout",
     "output_type": "stream",
     "text": [
      "2208\n"
     ]
    },
    {
     "name": "stderr",
     "output_type": "stream",
     "text": [
      " 45%|████▍     | 70/157 [19:52<25:49, 17.81s/it]"
     ]
    },
    {
     "name": "stdout",
     "output_type": "stream",
     "text": [
      "2240\n"
     ]
    },
    {
     "name": "stderr",
     "output_type": "stream",
     "text": [
      " 45%|████▌     | 71/157 [20:06<23:54, 16.68s/it]"
     ]
    },
    {
     "name": "stdout",
     "output_type": "stream",
     "text": [
      "2272\n"
     ]
    },
    {
     "name": "stderr",
     "output_type": "stream",
     "text": [
      " 46%|████▌     | 72/157 [20:21<22:53, 16.16s/it]"
     ]
    },
    {
     "name": "stdout",
     "output_type": "stream",
     "text": [
      "2304\n"
     ]
    },
    {
     "name": "stderr",
     "output_type": "stream",
     "text": [
      " 46%|████▋     | 73/157 [20:35<21:44, 15.52s/it]"
     ]
    },
    {
     "name": "stdout",
     "output_type": "stream",
     "text": [
      "2336\n"
     ]
    },
    {
     "name": "stderr",
     "output_type": "stream",
     "text": [
      " 47%|████▋     | 74/157 [20:58<24:33, 17.76s/it]"
     ]
    },
    {
     "name": "stdout",
     "output_type": "stream",
     "text": [
      "2368\n"
     ]
    },
    {
     "name": "stderr",
     "output_type": "stream",
     "text": [
      " 48%|████▊     | 75/157 [21:14<23:38, 17.30s/it]"
     ]
    },
    {
     "name": "stdout",
     "output_type": "stream",
     "text": [
      "2400\n"
     ]
    },
    {
     "name": "stderr",
     "output_type": "stream",
     "text": [
      " 48%|████▊     | 76/157 [21:29<22:24, 16.60s/it]"
     ]
    },
    {
     "name": "stdout",
     "output_type": "stream",
     "text": [
      "2432\n"
     ]
    },
    {
     "name": "stderr",
     "output_type": "stream",
     "text": [
      " 49%|████▉     | 77/157 [21:44<21:25, 16.07s/it]"
     ]
    },
    {
     "name": "stdout",
     "output_type": "stream",
     "text": [
      "2464\n"
     ]
    },
    {
     "name": "stderr",
     "output_type": "stream",
     "text": [
      " 50%|████▉     | 78/157 [22:04<22:54, 17.40s/it]"
     ]
    },
    {
     "name": "stdout",
     "output_type": "stream",
     "text": [
      "2496\n"
     ]
    },
    {
     "name": "stderr",
     "output_type": "stream",
     "text": [
      " 50%|█████     | 79/157 [22:19<21:35, 16.61s/it]"
     ]
    },
    {
     "name": "stdout",
     "output_type": "stream",
     "text": [
      "2528\n"
     ]
    },
    {
     "name": "stderr",
     "output_type": "stream",
     "text": [
      " 51%|█████     | 80/157 [22:32<19:55, 15.53s/it]"
     ]
    },
    {
     "name": "stdout",
     "output_type": "stream",
     "text": [
      "2560\n"
     ]
    },
    {
     "name": "stderr",
     "output_type": "stream",
     "text": [
      " 52%|█████▏    | 81/157 [22:59<24:02, 18.97s/it]"
     ]
    },
    {
     "name": "stdout",
     "output_type": "stream",
     "text": [
      "2592\n"
     ]
    },
    {
     "name": "stderr",
     "output_type": "stream",
     "text": [
      " 52%|█████▏    | 82/157 [23:18<23:41, 18.95s/it]"
     ]
    },
    {
     "name": "stdout",
     "output_type": "stream",
     "text": [
      "2624\n"
     ]
    },
    {
     "name": "stderr",
     "output_type": "stream",
     "text": [
      " 53%|█████▎    | 83/157 [23:46<26:41, 21.65s/it]"
     ]
    },
    {
     "name": "stdout",
     "output_type": "stream",
     "text": [
      "2656\n"
     ]
    },
    {
     "name": "stderr",
     "output_type": "stream",
     "text": [
      " 54%|█████▎    | 84/157 [23:59<23:20, 19.18s/it]"
     ]
    },
    {
     "name": "stdout",
     "output_type": "stream",
     "text": [
      "2688\n"
     ]
    },
    {
     "name": "stderr",
     "output_type": "stream",
     "text": [
      " 54%|█████▍    | 85/157 [24:12<20:47, 17.33s/it]"
     ]
    },
    {
     "name": "stdout",
     "output_type": "stream",
     "text": [
      "2720\n"
     ]
    },
    {
     "name": "stderr",
     "output_type": "stream",
     "text": [
      " 55%|█████▍    | 86/157 [24:28<19:51, 16.78s/it]"
     ]
    },
    {
     "name": "stdout",
     "output_type": "stream",
     "text": [
      "2752\n"
     ]
    },
    {
     "name": "stderr",
     "output_type": "stream",
     "text": [
      " 55%|█████▌    | 87/157 [24:42<18:31, 15.87s/it]"
     ]
    },
    {
     "name": "stdout",
     "output_type": "stream",
     "text": [
      "2784\n"
     ]
    },
    {
     "name": "stderr",
     "output_type": "stream",
     "text": [
      " 56%|█████▌    | 88/157 [24:56<17:39, 15.36s/it]"
     ]
    },
    {
     "name": "stdout",
     "output_type": "stream",
     "text": [
      "2816\n"
     ]
    },
    {
     "name": "stderr",
     "output_type": "stream",
     "text": [
      " 57%|█████▋    | 89/157 [25:13<18:07, 16.00s/it]"
     ]
    },
    {
     "name": "stdout",
     "output_type": "stream",
     "text": [
      "2848\n"
     ]
    },
    {
     "name": "stderr",
     "output_type": "stream",
     "text": [
      " 57%|█████▋    | 90/157 [25:32<18:44, 16.79s/it]"
     ]
    },
    {
     "name": "stdout",
     "output_type": "stream",
     "text": [
      "2880\n"
     ]
    },
    {
     "name": "stderr",
     "output_type": "stream",
     "text": [
      " 58%|█████▊    | 91/157 [25:47<18:03, 16.41s/it]"
     ]
    },
    {
     "name": "stdout",
     "output_type": "stream",
     "text": [
      "2912\n"
     ]
    },
    {
     "name": "stderr",
     "output_type": "stream",
     "text": [
      " 59%|█████▊    | 92/157 [26:01<16:47, 15.50s/it]"
     ]
    },
    {
     "name": "stdout",
     "output_type": "stream",
     "text": [
      "2944\n"
     ]
    },
    {
     "name": "stderr",
     "output_type": "stream",
     "text": [
      " 59%|█████▉    | 93/157 [26:16<16:18, 15.29s/it]"
     ]
    },
    {
     "name": "stdout",
     "output_type": "stream",
     "text": [
      "2976\n"
     ]
    },
    {
     "name": "stderr",
     "output_type": "stream",
     "text": [
      " 60%|█████▉    | 94/157 [26:32<16:19, 15.55s/it]"
     ]
    },
    {
     "name": "stdout",
     "output_type": "stream",
     "text": [
      "3008\n"
     ]
    },
    {
     "name": "stderr",
     "output_type": "stream",
     "text": [
      " 61%|██████    | 95/157 [26:47<16:06, 15.59s/it]"
     ]
    },
    {
     "name": "stdout",
     "output_type": "stream",
     "text": [
      "3040\n"
     ]
    },
    {
     "name": "stderr",
     "output_type": "stream",
     "text": [
      " 61%|██████    | 96/157 [27:04<16:08, 15.88s/it]"
     ]
    },
    {
     "name": "stdout",
     "output_type": "stream",
     "text": [
      "3072\n"
     ]
    },
    {
     "name": "stderr",
     "output_type": "stream",
     "text": [
      " 62%|██████▏   | 97/157 [27:19<15:28, 15.48s/it]"
     ]
    },
    {
     "name": "stdout",
     "output_type": "stream",
     "text": [
      "3104\n"
     ]
    },
    {
     "name": "stderr",
     "output_type": "stream",
     "text": [
      " 62%|██████▏   | 98/157 [27:32<14:38, 14.88s/it]"
     ]
    },
    {
     "name": "stdout",
     "output_type": "stream",
     "text": [
      "3136\n"
     ]
    },
    {
     "name": "stderr",
     "output_type": "stream",
     "text": [
      " 63%|██████▎   | 99/157 [27:45<13:46, 14.26s/it]"
     ]
    },
    {
     "name": "stdout",
     "output_type": "stream",
     "text": [
      "3168\n"
     ]
    },
    {
     "name": "stderr",
     "output_type": "stream",
     "text": [
      " 64%|██████▎   | 100/157 [27:58<13:10, 13.87s/it]"
     ]
    },
    {
     "name": "stdout",
     "output_type": "stream",
     "text": [
      "3200\n"
     ]
    },
    {
     "name": "stderr",
     "output_type": "stream",
     "text": [
      " 64%|██████▍   | 101/157 [28:11<12:43, 13.64s/it]"
     ]
    },
    {
     "name": "stdout",
     "output_type": "stream",
     "text": [
      "3232\n"
     ]
    },
    {
     "name": "stderr",
     "output_type": "stream",
     "text": [
      " 65%|██████▍   | 102/157 [28:23<12:12, 13.31s/it]"
     ]
    },
    {
     "name": "stdout",
     "output_type": "stream",
     "text": [
      "3264\n"
     ]
    },
    {
     "name": "stderr",
     "output_type": "stream",
     "text": [
      " 66%|██████▌   | 103/157 [28:36<11:51, 13.17s/it]"
     ]
    },
    {
     "name": "stdout",
     "output_type": "stream",
     "text": [
      "3296\n"
     ]
    },
    {
     "name": "stderr",
     "output_type": "stream",
     "text": [
      " 66%|██████▌   | 104/157 [28:50<11:44, 13.30s/it]"
     ]
    },
    {
     "name": "stdout",
     "output_type": "stream",
     "text": [
      "3328\n"
     ]
    },
    {
     "name": "stderr",
     "output_type": "stream",
     "text": [
      " 67%|██████▋   | 105/157 [29:03<11:26, 13.21s/it]"
     ]
    },
    {
     "name": "stdout",
     "output_type": "stream",
     "text": [
      "3360\n"
     ]
    },
    {
     "name": "stderr",
     "output_type": "stream",
     "text": [
      " 68%|██████▊   | 106/157 [29:17<11:29, 13.51s/it]"
     ]
    },
    {
     "name": "stdout",
     "output_type": "stream",
     "text": [
      "3392\n"
     ]
    },
    {
     "name": "stderr",
     "output_type": "stream",
     "text": [
      " 68%|██████▊   | 107/157 [29:30<11:08, 13.37s/it]"
     ]
    },
    {
     "name": "stdout",
     "output_type": "stream",
     "text": [
      "3424\n"
     ]
    },
    {
     "name": "stderr",
     "output_type": "stream",
     "text": [
      " 69%|██████▉   | 108/157 [29:44<11:00, 13.48s/it]"
     ]
    },
    {
     "name": "stdout",
     "output_type": "stream",
     "text": [
      "3456\n"
     ]
    },
    {
     "name": "stderr",
     "output_type": "stream",
     "text": [
      " 69%|██████▉   | 109/157 [29:57<10:37, 13.28s/it]"
     ]
    },
    {
     "name": "stdout",
     "output_type": "stream",
     "text": [
      "3488\n"
     ]
    },
    {
     "name": "stderr",
     "output_type": "stream",
     "text": [
      " 70%|███████   | 110/157 [30:10<10:21, 13.21s/it]"
     ]
    },
    {
     "name": "stdout",
     "output_type": "stream",
     "text": [
      "3520\n"
     ]
    },
    {
     "name": "stderr",
     "output_type": "stream",
     "text": [
      " 71%|███████   | 111/157 [30:24<10:17, 13.43s/it]"
     ]
    },
    {
     "name": "stdout",
     "output_type": "stream",
     "text": [
      "3552\n"
     ]
    },
    {
     "name": "stderr",
     "output_type": "stream",
     "text": [
      " 71%|███████▏  | 112/157 [30:37<09:59, 13.33s/it]"
     ]
    },
    {
     "name": "stdout",
     "output_type": "stream",
     "text": [
      "3584\n"
     ]
    },
    {
     "name": "stderr",
     "output_type": "stream",
     "text": [
      " 72%|███████▏  | 113/157 [31:03<12:33, 17.12s/it]"
     ]
    },
    {
     "name": "stdout",
     "output_type": "stream",
     "text": [
      "3616\n"
     ]
    },
    {
     "name": "stderr",
     "output_type": "stream",
     "text": [
      " 73%|███████▎  | 114/157 [31:15<11:08, 15.54s/it]"
     ]
    },
    {
     "name": "stdout",
     "output_type": "stream",
     "text": [
      "3648\n"
     ]
    },
    {
     "name": "stderr",
     "output_type": "stream",
     "text": [
      " 73%|███████▎  | 115/157 [31:28<10:26, 14.92s/it]"
     ]
    },
    {
     "name": "stdout",
     "output_type": "stream",
     "text": [
      "3680\n"
     ]
    },
    {
     "name": "stderr",
     "output_type": "stream",
     "text": [
      " 74%|███████▍  | 116/157 [31:45<10:30, 15.37s/it]"
     ]
    },
    {
     "name": "stdout",
     "output_type": "stream",
     "text": [
      "3712\n"
     ]
    },
    {
     "name": "stderr",
     "output_type": "stream",
     "text": [
      " 75%|███████▍  | 117/157 [32:03<10:53, 16.34s/it]"
     ]
    },
    {
     "name": "stdout",
     "output_type": "stream",
     "text": [
      "3744\n"
     ]
    },
    {
     "name": "stderr",
     "output_type": "stream",
     "text": [
      " 75%|███████▌  | 118/157 [32:19<10:37, 16.34s/it]"
     ]
    },
    {
     "name": "stdout",
     "output_type": "stream",
     "text": [
      "3776\n"
     ]
    },
    {
     "name": "stderr",
     "output_type": "stream",
     "text": [
      " 76%|███████▌  | 119/157 [32:38<10:42, 16.92s/it]"
     ]
    },
    {
     "name": "stdout",
     "output_type": "stream",
     "text": [
      "3808\n"
     ]
    },
    {
     "name": "stderr",
     "output_type": "stream",
     "text": [
      " 76%|███████▋  | 120/157 [32:58<10:58, 17.79s/it]"
     ]
    },
    {
     "name": "stdout",
     "output_type": "stream",
     "text": [
      "3840\n"
     ]
    },
    {
     "name": "stderr",
     "output_type": "stream",
     "text": [
      " 77%|███████▋  | 121/157 [33:13<10:16, 17.14s/it]"
     ]
    },
    {
     "name": "stdout",
     "output_type": "stream",
     "text": [
      "3872\n"
     ]
    },
    {
     "name": "stderr",
     "output_type": "stream",
     "text": [
      " 78%|███████▊  | 122/157 [33:28<09:32, 16.34s/it]"
     ]
    },
    {
     "name": "stdout",
     "output_type": "stream",
     "text": [
      "3904\n"
     ]
    },
    {
     "name": "stderr",
     "output_type": "stream",
     "text": [
      " 78%|███████▊  | 123/157 [33:43<09:08, 16.14s/it]"
     ]
    },
    {
     "name": "stdout",
     "output_type": "stream",
     "text": [
      "3936\n"
     ]
    },
    {
     "name": "stderr",
     "output_type": "stream",
     "text": [
      " 79%|███████▉  | 124/157 [33:56<08:19, 15.14s/it]"
     ]
    },
    {
     "name": "stdout",
     "output_type": "stream",
     "text": [
      "3968\n"
     ]
    },
    {
     "name": "stderr",
     "output_type": "stream",
     "text": [
      " 80%|███████▉  | 125/157 [34:13<08:23, 15.72s/it]"
     ]
    },
    {
     "name": "stdout",
     "output_type": "stream",
     "text": [
      "4000\n"
     ]
    },
    {
     "name": "stderr",
     "output_type": "stream",
     "text": [
      " 80%|████████  | 126/157 [34:39<09:40, 18.73s/it]"
     ]
    },
    {
     "name": "stdout",
     "output_type": "stream",
     "text": [
      "4032\n"
     ]
    },
    {
     "name": "stderr",
     "output_type": "stream",
     "text": [
      " 81%|████████  | 127/157 [34:53<08:42, 17.41s/it]"
     ]
    },
    {
     "name": "stdout",
     "output_type": "stream",
     "text": [
      "4064\n"
     ]
    },
    {
     "name": "stderr",
     "output_type": "stream",
     "text": [
      " 82%|████████▏ | 128/157 [35:08<07:57, 16.47s/it]"
     ]
    },
    {
     "name": "stdout",
     "output_type": "stream",
     "text": [
      "4096\n"
     ]
    },
    {
     "name": "stderr",
     "output_type": "stream",
     "text": [
      " 82%|████████▏ | 129/157 [35:23<07:28, 16.01s/it]"
     ]
    },
    {
     "name": "stdout",
     "output_type": "stream",
     "text": [
      "4128\n"
     ]
    },
    {
     "name": "stderr",
     "output_type": "stream",
     "text": [
      " 83%|████████▎ | 130/157 [35:41<07:28, 16.60s/it]"
     ]
    },
    {
     "name": "stdout",
     "output_type": "stream",
     "text": [
      "4160\n"
     ]
    },
    {
     "name": "stderr",
     "output_type": "stream",
     "text": [
      " 83%|████████▎ | 131/157 [36:00<07:38, 17.62s/it]"
     ]
    },
    {
     "name": "stdout",
     "output_type": "stream",
     "text": [
      "4192\n"
     ]
    },
    {
     "name": "stderr",
     "output_type": "stream",
     "text": [
      " 84%|████████▍ | 132/157 [36:17<07:12, 17.30s/it]"
     ]
    },
    {
     "name": "stdout",
     "output_type": "stream",
     "text": [
      "4224\n"
     ]
    },
    {
     "name": "stderr",
     "output_type": "stream",
     "text": [
      " 85%|████████▍ | 133/157 [36:32<06:35, 16.48s/it]"
     ]
    },
    {
     "name": "stdout",
     "output_type": "stream",
     "text": [
      "4256\n"
     ]
    },
    {
     "name": "stderr",
     "output_type": "stream",
     "text": [
      " 85%|████████▌ | 134/157 [36:48<06:21, 16.59s/it]"
     ]
    },
    {
     "name": "stdout",
     "output_type": "stream",
     "text": [
      "4288\n"
     ]
    },
    {
     "name": "stderr",
     "output_type": "stream",
     "text": [
      " 86%|████████▌ | 135/157 [37:03<05:52, 16.01s/it]"
     ]
    },
    {
     "name": "stdout",
     "output_type": "stream",
     "text": [
      "4320\n"
     ]
    },
    {
     "name": "stderr",
     "output_type": "stream",
     "text": [
      " 87%|████████▋ | 136/157 [37:18<05:27, 15.62s/it]"
     ]
    },
    {
     "name": "stdout",
     "output_type": "stream",
     "text": [
      "4352\n"
     ]
    },
    {
     "name": "stderr",
     "output_type": "stream",
     "text": [
      " 87%|████████▋ | 137/157 [37:36<05:26, 16.34s/it]"
     ]
    },
    {
     "name": "stdout",
     "output_type": "stream",
     "text": [
      "4384\n"
     ]
    },
    {
     "name": "stderr",
     "output_type": "stream",
     "text": [
      " 88%|████████▊ | 138/157 [38:01<06:02, 19.10s/it]"
     ]
    },
    {
     "name": "stdout",
     "output_type": "stream",
     "text": [
      "4416\n"
     ]
    },
    {
     "name": "stderr",
     "output_type": "stream",
     "text": [
      " 89%|████████▊ | 139/157 [38:20<05:42, 19.05s/it]"
     ]
    },
    {
     "name": "stdout",
     "output_type": "stream",
     "text": [
      "4448\n"
     ]
    },
    {
     "name": "stderr",
     "output_type": "stream",
     "text": [
      " 89%|████████▉ | 140/157 [38:43<05:42, 20.17s/it]"
     ]
    },
    {
     "name": "stdout",
     "output_type": "stream",
     "text": [
      "4480\n"
     ]
    },
    {
     "name": "stderr",
     "output_type": "stream",
     "text": [
      " 90%|████████▉ | 141/157 [38:59<05:01, 18.87s/it]"
     ]
    },
    {
     "name": "stdout",
     "output_type": "stream",
     "text": [
      "4512\n"
     ]
    },
    {
     "name": "stderr",
     "output_type": "stream",
     "text": [
      " 90%|█████████ | 142/157 [39:13<04:22, 17.48s/it]"
     ]
    },
    {
     "name": "stdout",
     "output_type": "stream",
     "text": [
      "4544\n"
     ]
    },
    {
     "name": "stderr",
     "output_type": "stream",
     "text": [
      " 91%|█████████ | 143/157 [39:30<04:01, 17.22s/it]"
     ]
    },
    {
     "name": "stdout",
     "output_type": "stream",
     "text": [
      "4576\n"
     ]
    },
    {
     "name": "stderr",
     "output_type": "stream",
     "text": [
      " 92%|█████████▏| 144/157 [39:44<03:32, 16.36s/it]"
     ]
    },
    {
     "name": "stdout",
     "output_type": "stream",
     "text": [
      "4608\n"
     ]
    },
    {
     "name": "stderr",
     "output_type": "stream",
     "text": [
      " 92%|█████████▏| 145/157 [39:59<03:11, 15.92s/it]"
     ]
    },
    {
     "name": "stdout",
     "output_type": "stream",
     "text": [
      "4640\n"
     ]
    },
    {
     "name": "stderr",
     "output_type": "stream",
     "text": [
      " 93%|█████████▎| 146/157 [40:14<02:53, 15.78s/it]"
     ]
    },
    {
     "name": "stdout",
     "output_type": "stream",
     "text": [
      "4672\n"
     ]
    },
    {
     "name": "stderr",
     "output_type": "stream",
     "text": [
      " 94%|█████████▎| 147/157 [40:29<02:35, 15.53s/it]"
     ]
    },
    {
     "name": "stdout",
     "output_type": "stream",
     "text": [
      "4704\n"
     ]
    },
    {
     "name": "stderr",
     "output_type": "stream",
     "text": [
      " 94%|█████████▍| 148/157 [40:43<02:14, 14.95s/it]"
     ]
    },
    {
     "name": "stdout",
     "output_type": "stream",
     "text": [
      "4736\n"
     ]
    },
    {
     "name": "stderr",
     "output_type": "stream",
     "text": [
      " 95%|█████████▍| 149/157 [41:00<02:03, 15.47s/it]"
     ]
    },
    {
     "name": "stdout",
     "output_type": "stream",
     "text": [
      "4768\n"
     ]
    },
    {
     "name": "stderr",
     "output_type": "stream",
     "text": [
      " 96%|█████████▌| 150/157 [41:15<01:47, 15.35s/it]"
     ]
    },
    {
     "name": "stdout",
     "output_type": "stream",
     "text": [
      "4800\n"
     ]
    },
    {
     "name": "stderr",
     "output_type": "stream",
     "text": [
      " 96%|█████████▌| 151/157 [41:29<01:29, 14.94s/it]"
     ]
    },
    {
     "name": "stdout",
     "output_type": "stream",
     "text": [
      "4832\n"
     ]
    },
    {
     "name": "stderr",
     "output_type": "stream",
     "text": [
      " 97%|█████████▋| 152/157 [41:42<01:11, 14.28s/it]"
     ]
    },
    {
     "name": "stdout",
     "output_type": "stream",
     "text": [
      "4864\n"
     ]
    },
    {
     "name": "stderr",
     "output_type": "stream",
     "text": [
      " 97%|█████████▋| 153/157 [41:55<00:56, 14.05s/it]"
     ]
    },
    {
     "name": "stdout",
     "output_type": "stream",
     "text": [
      "4896\n"
     ]
    },
    {
     "name": "stderr",
     "output_type": "stream",
     "text": [
      " 98%|█████████▊| 154/157 [42:11<00:43, 14.61s/it]"
     ]
    },
    {
     "name": "stdout",
     "output_type": "stream",
     "text": [
      "4928\n"
     ]
    },
    {
     "name": "stderr",
     "output_type": "stream",
     "text": [
      " 99%|█████████▊| 155/157 [42:27<00:29, 14.93s/it]"
     ]
    },
    {
     "name": "stdout",
     "output_type": "stream",
     "text": [
      "4960\n"
     ]
    },
    {
     "name": "stderr",
     "output_type": "stream",
     "text": [
      " 99%|█████████▉| 156/157 [42:41<00:14, 14.89s/it]"
     ]
    },
    {
     "name": "stdout",
     "output_type": "stream",
     "text": [
      "4992\n"
     ]
    },
    {
     "name": "stderr",
     "output_type": "stream",
     "text": [
      "100%|██████████| 157/157 [42:52<00:00, 16.39s/it]"
     ]
    },
    {
     "name": "stdout",
     "output_type": "stream",
     "text": [
      "5000\n",
      "Results saved to results.json\n"
     ]
    },
    {
     "name": "stderr",
     "output_type": "stream",
     "text": [
      "\n"
     ]
    }
   ],
   "source": [
    "model_name = \"output/qwen2_5-0_5b-instruct/v1-20241207-153823/checkpoint-464\"\n",
    "tokenizer_name = \"Qwen/Qwen2.5-0.5B-Instruct\"\n",
    "\n",
    "prompt = '''You are a highly skilled mathematician capable of solving complex grade-school math problems step by step. Please read the problem carefully and solve it with clear reasoning. Follow these instructions:\n",
    "\n",
    "- Identify the known information and the question being asked.\n",
    "- Break the solution into logical steps, providing clear explanations for each.\n",
    "- Show all calculations and intermediate results.\n",
    "- Conclude with a final answer.\n",
    "\n",
    "Output your response in the following format:\n",
    "[Explanation and calculations]\n",
    "#### [Final numerical answer]   \n",
    "\n",
    "Here is the problem:\n",
    "{text}'''\n",
    "replies,answers = eval_process(model_name, tokenizer_name, prompt, batch_size=32, ratio=1)"
   ]
  },
  {
   "cell_type": "code",
   "execution_count": 13,
   "metadata": {},
   "outputs": [],
   "source": [
    "# 导入swift框架进行微调\n",
    "from swift.llm import (\n",
    "    DatasetName, InferArguments, ModelType, SftArguments,\n",
    "    infer_main, sft_main, app_ui_main\n",
    ")"
   ]
  },
  {
   "cell_type": "code",
   "execution_count": 15,
   "metadata": {},
   "outputs": [
    {
     "name": "stderr",
     "output_type": "stream",
     "text": [
      "[INFO:swift] Setting template_type: qwen2_5\n",
      "[INFO:swift] Setting args.lazy_tokenize: False\n",
      "[INFO:swift] Setting args.dataloader_num_workers: 1\n",
      "[INFO:swift] output_dir: /mnt/workspace/output/qwen2_5-0_5b-instruct/v1-20241207-153823\n",
      "[INFO:swift] Start time of running main: 2024-12-07 15:38:23.736837\n",
      "[INFO:swift] args: SftArguments(model_type='qwen2_5-0_5b-instruct', model_id_or_path='qwen/Qwen2.5-0.5B-Instruct', model_revision='master', full_determinism=False, sft_type='full', freeze_parameters=[], freeze_vit=False, freeze_parameters_ratio=0.0, additional_trainable_parameters=[], tuner_backend='peft', template_type='qwen2_5', output_dir='/mnt/workspace/output/qwen2_5-0_5b-instruct/v1-20241207-153823', add_output_dir_suffix=True, ddp_backend=None, ddp_find_unused_parameters=None, ddp_broadcast_buffers=None, ddp_timeout=1800, seed=42, resume_from_checkpoint=None, resume_only_model=False, ignore_data_skip=False, dtype='bf16', packing=False, train_backend='transformers', tp=1, pp=1, min_lr=None, sequence_parallel=False, model_kwargs={}, loss_name=None, dataset=['MATH_train_fineture.jsonl'], val_dataset=[], dataset_seed=42, dataset_test_ratio=0.01, use_loss_scale=False, loss_scale_config_path='/usr/local/lib/python3.10/site-packages/swift/llm/agent/default_loss_scale_config.json', system=None, tools_prompt='react_en', max_length=4096, truncation_strategy='delete', check_dataset_strategy='none', streaming=False, streaming_val_size=0, streaming_buffer_size=16384, model_name=[None, None], model_author=[None, None], quant_method=None, quantization_bit=0, hqq_axis=0, hqq_dynamic_config_path=None, bnb_4bit_comp_dtype='bf16', bnb_4bit_quant_type='nf4', bnb_4bit_use_double_quant=True, bnb_4bit_quant_storage=None, rescale_image=-1, target_modules=['q_proj', 'k_proj', 'v_proj'], target_regex=None, modules_to_save=[], lora_rank=8, lora_alpha=32, lora_dropout=0.05, lora_bias_trainable='none', lora_dtype='AUTO', lora_lr_ratio=None, use_rslora=False, use_dora=False, init_lora_weights='true', fourier_n_frequency=2000, fourier_scaling=300.0, rope_scaling=None, boft_block_size=4, boft_block_num=0, boft_n_butterfly_factor=1, boft_dropout=0.0, vera_rank=256, vera_projection_prng_key=0, vera_dropout=0.0, vera_d_initial=0.1, adapter_act='gelu', adapter_length=128, use_galore=False, galore_target_modules=None, galore_rank=128, galore_update_proj_gap=50, galore_scale=1.0, galore_proj_type='std', galore_optim_per_parameter=False, galore_with_embedding=False, galore_quantization=False, galore_proj_quant=False, galore_proj_bits=4, galore_proj_group_size=256, galore_cos_threshold=0.4, galore_gamma_proj=2, galore_queue_size=5, adalora_target_r=8, adalora_init_r=12, adalora_tinit=0, adalora_tfinal=0, adalora_deltaT=1, adalora_beta1=0.85, adalora_beta2=0.85, adalora_orth_reg_weight=0.5, ia3_feedforward_modules=[], llamapro_num_new_blocks=4, llamapro_num_groups=None, neftune_noise_alpha=None, neftune_backend='transformers', lisa_activated_layers=0, lisa_step_interval=20, reft_layer_key=None, reft_layers=None, reft_rank=4, reft_intervention_type='LoreftIntervention', reft_args=None, use_liger=False, gradient_checkpointing=True, vit_use_gc=True, deepspeed=None, batch_size=1, eval_batch_size=1, auto_find_batch_size=False, num_train_epochs=1, max_steps=-1, optim='adamw_torch', adam_beta1=0.9, adam_beta2=0.95, adam_epsilon=1e-08, learning_rate=1e-05, weight_decay=0.1, gradient_accumulation_steps=16, max_grad_norm=1, predict_with_generate=False, lr_scheduler_type='cosine', lr_scheduler_kwargs={}, warmup_ratio=0.05, warmup_steps=0, eval_steps=200, save_steps=200, save_only_model=False, save_total_limit=2, logging_steps=5, acc_steps=1, dataloader_num_workers=1, dataloader_pin_memory=True, dataloader_drop_last=False, push_to_hub=False, hub_model_id=None, hub_token=None, hub_private_repo=False, hub_strategy='every_save', test_oom_error=False, disable_tqdm=False, lazy_tokenize=False, preprocess_num_proc=1, use_flash_attn=None, ignore_args_error=False, check_model_is_latest=True, logging_dir='/mnt/workspace/output/qwen2_5-0_5b-instruct/v1-20241207-153823/runs', report_to=['tensorboard'], acc_strategy='token', save_on_each_node=False, evaluation_strategy='steps', save_strategy='steps', save_safetensors=True, gpu_memory_fraction=None, include_num_input_tokens_seen=False, local_repo_path=None, custom_register_path=None, custom_dataset_info=None, device_map_config=None, device_max_memory=[], max_new_tokens=2048, do_sample=None, temperature=None, top_k=None, top_p=None, repetition_penalty=None, num_beams=1, fsdp='', fsdp_config=None, sequence_parallel_size=1, model_layer_cls_name=None, metric_warmup_step=0, fsdp_num=1, per_device_train_batch_size=None, per_device_eval_batch_size=None, eval_strategy=None, self_cognition_sample=0, train_dataset_mix_ratio=0.0, train_dataset_mix_ds=['ms-bench'], train_dataset_sample=-1, val_dataset_sample=None, safe_serialization=None, only_save_model=None, neftune_alpha=None, deepspeed_config_path=None, model_cache_dir=None, lora_dropout_p=None, lora_target_modules=[], lora_target_regex=None, lora_modules_to_save=[], boft_target_modules=[], boft_modules_to_save=[], vera_target_modules=[], vera_modules_to_save=[], ia3_target_modules=[], ia3_modules_to_save=[], custom_train_dataset_path=[], custom_val_dataset_path=[], device_map_config_path=None, push_hub_strategy=None)\n",
      "[INFO:swift] Global seed set to 42\n",
      "[INFO:swift] Downloading the model from ModelScope Hub, model_id: qwen/Qwen2.5-0.5B-Instruct\n"
     ]
    },
    {
     "name": "stdout",
     "output_type": "stream",
     "text": [
      "device_count: 1\n",
      "rank: -1, local_rank: -1, world_size: 1, local_world_size: 1\n",
      "Downloading Model to directory: /mnt/workspace/.cache/modelscope/hub/qwen/Qwen2.5-0.5B-Instruct\n"
     ]
    },
    {
     "name": "stderr",
     "output_type": "stream",
     "text": [
      "[WARNING:modelscope] Using branch: master as version is unstable, use with caution\n",
      "[INFO:modelscope] Creating symbolic link /mnt/workspace/.cache/modelscope/hub/qwen/Qwen2___5-0___5B-Instruct -> /mnt/workspace/.cache/modelscope/hub/qwen/Qwen2.5-0.5B-Instruct.\n",
      "[WARNING:modelscope] Failed to create symbolic link /mnt/workspace/.cache/modelscope/hub/qwen/Qwen2___5-0___5B-Instruct -> /mnt/workspace/.cache/modelscope/hub/qwen/Qwen2.5-0.5B-Instruct: [Errno 17] File exists: '/mnt/workspace/.cache/modelscope/hub/qwen/Qwen2___5-0___5B-Instruct' -> '/mnt/workspace/.cache/modelscope/hub/qwen/Qwen2.5-0.5B-Instruct'\n",
      "[INFO:swift] Loading the model using model_dir: /mnt/workspace/.cache/modelscope/hub/qwen/Qwen2___5-0___5B-Instruct\n",
      "[INFO:swift] model_kwargs: {'device_map': 'cuda:0'}\n",
      "[INFO:swift] model.max_model_len: 32768\n",
      "[INFO:swift] model.hf_device_map: {'': device(type='cuda', index=0)}\n",
      "[INFO:swift] model_config: Qwen2Config {\n",
      "  \"_attn_implementation_autoset\": true,\n",
      "  \"_name_or_path\": \"/mnt/workspace/.cache/modelscope/hub/qwen/Qwen2___5-0___5B-Instruct\",\n",
      "  \"architectures\": [\n",
      "    \"Qwen2ForCausalLM\"\n",
      "  ],\n",
      "  \"attention_dropout\": 0.0,\n",
      "  \"bos_token_id\": 151643,\n",
      "  \"eos_token_id\": 151645,\n",
      "  \"hidden_act\": \"silu\",\n",
      "  \"hidden_size\": 896,\n",
      "  \"initializer_range\": 0.02,\n",
      "  \"intermediate_size\": 4864,\n",
      "  \"max_position_embeddings\": 32768,\n",
      "  \"max_window_layers\": 21,\n",
      "  \"model_type\": \"qwen2\",\n",
      "  \"num_attention_heads\": 14,\n",
      "  \"num_hidden_layers\": 24,\n",
      "  \"num_key_value_heads\": 2,\n",
      "  \"rms_norm_eps\": 1e-06,\n",
      "  \"rope_scaling\": null,\n",
      "  \"rope_theta\": 1000000.0,\n",
      "  \"sliding_window\": null,\n",
      "  \"tie_word_embeddings\": true,\n",
      "  \"torch_dtype\": \"bfloat16\",\n",
      "  \"transformers_version\": \"4.46.2\",\n",
      "  \"use_cache\": true,\n",
      "  \"use_sliding_window\": false,\n",
      "  \"vocab_size\": 151936\n",
      "}\n",
      "\n",
      "[INFO:swift] model.generation_config: GenerationConfig {\n",
      "  \"bos_token_id\": 151643,\n",
      "  \"do_sample\": true,\n",
      "  \"eos_token_id\": 151645,\n",
      "  \"max_new_tokens\": 2048,\n",
      "  \"pad_token_id\": 151643,\n",
      "  \"repetition_penalty\": 1.1,\n",
      "  \"temperature\": 0.7,\n",
      "  \"top_k\": 20,\n",
      "  \"top_p\": 0.8\n",
      "}\n",
      "\n",
      "[INFO:swift] Setting model.config.use_cache: False\n",
      "[INFO:swift] [model.embed_tokens.weight]: requires_grad=True, dtype=torch.bfloat16, device=cuda:0\n",
      "[INFO:swift] [model.layers.0.self_attn.q_proj.weight]: requires_grad=True, dtype=torch.bfloat16, device=cuda:0\n",
      "[INFO:swift] [model.layers.0.self_attn.q_proj.bias]: requires_grad=True, dtype=torch.bfloat16, device=cuda:0\n",
      "[INFO:swift] [model.layers.0.self_attn.k_proj.weight]: requires_grad=True, dtype=torch.bfloat16, device=cuda:0\n",
      "[INFO:swift] [model.layers.0.self_attn.k_proj.bias]: requires_grad=True, dtype=torch.bfloat16, device=cuda:0\n",
      "[INFO:swift] [model.layers.0.self_attn.v_proj.weight]: requires_grad=True, dtype=torch.bfloat16, device=cuda:0\n",
      "[INFO:swift] [model.layers.0.self_attn.v_proj.bias]: requires_grad=True, dtype=torch.bfloat16, device=cuda:0\n",
      "[INFO:swift] [model.layers.0.self_attn.o_proj.weight]: requires_grad=True, dtype=torch.bfloat16, device=cuda:0\n",
      "[INFO:swift] [model.layers.0.mlp.gate_proj.weight]: requires_grad=True, dtype=torch.bfloat16, device=cuda:0\n",
      "[INFO:swift] [model.layers.0.mlp.up_proj.weight]: requires_grad=True, dtype=torch.bfloat16, device=cuda:0\n",
      "[INFO:swift] [model.layers.0.mlp.down_proj.weight]: requires_grad=True, dtype=torch.bfloat16, device=cuda:0\n",
      "[INFO:swift] [model.layers.0.input_layernorm.weight]: requires_grad=True, dtype=torch.bfloat16, device=cuda:0\n",
      "[INFO:swift] [model.layers.0.post_attention_layernorm.weight]: requires_grad=True, dtype=torch.bfloat16, device=cuda:0\n",
      "[INFO:swift] [model.layers.1.self_attn.q_proj.weight]: requires_grad=True, dtype=torch.bfloat16, device=cuda:0\n",
      "[INFO:swift] [model.layers.1.self_attn.q_proj.bias]: requires_grad=True, dtype=torch.bfloat16, device=cuda:0\n",
      "[INFO:swift] [model.layers.1.self_attn.k_proj.weight]: requires_grad=True, dtype=torch.bfloat16, device=cuda:0\n",
      "[INFO:swift] [model.layers.1.self_attn.k_proj.bias]: requires_grad=True, dtype=torch.bfloat16, device=cuda:0\n",
      "[INFO:swift] [model.layers.1.self_attn.v_proj.weight]: requires_grad=True, dtype=torch.bfloat16, device=cuda:0\n",
      "[INFO:swift] [model.layers.1.self_attn.v_proj.bias]: requires_grad=True, dtype=torch.bfloat16, device=cuda:0\n",
      "[INFO:swift] [model.layers.1.self_attn.o_proj.weight]: requires_grad=True, dtype=torch.bfloat16, device=cuda:0\n",
      "[INFO:swift] ...\n",
      "[INFO:swift] Qwen2ForCausalLM(\n",
      "  (model): Qwen2Model(\n",
      "    (embed_tokens): Embedding(151936, 896)\n",
      "    (layers): ModuleList(\n",
      "      (0-23): 24 x Qwen2DecoderLayer(\n",
      "        (self_attn): Qwen2SdpaAttention(\n",
      "          (q_proj): Linear(in_features=896, out_features=896, bias=True)\n",
      "          (k_proj): Linear(in_features=896, out_features=128, bias=True)\n",
      "          (v_proj): Linear(in_features=896, out_features=128, bias=True)\n",
      "          (o_proj): Linear(in_features=896, out_features=896, bias=False)\n",
      "          (rotary_emb): Qwen2RotaryEmbedding()\n",
      "        )\n",
      "        (mlp): Qwen2MLP(\n",
      "          (gate_proj): Linear(in_features=896, out_features=4864, bias=False)\n",
      "          (up_proj): Linear(in_features=896, out_features=4864, bias=False)\n",
      "          (down_proj): Linear(in_features=4864, out_features=896, bias=False)\n",
      "          (act_fn): SiLU()\n",
      "        )\n",
      "        (input_layernorm): Qwen2RMSNorm((896,), eps=1e-06)\n",
      "        (post_attention_layernorm): Qwen2RMSNorm((896,), eps=1e-06)\n",
      "      )\n",
      "    )\n",
      "    (norm): Qwen2RMSNorm((896,), eps=1e-06)\n",
      "    (rotary_emb): Qwen2RotaryEmbedding()\n",
      "  )\n",
      "  (lm_head): Linear(in_features=896, out_features=151936, bias=False)\n",
      ")\n",
      "[INFO:swift] Qwen2ForCausalLM: 494.0328M Params (494.0328M Trainable [100.0000%]), 0.0008M Buffers.\n",
      "[INFO:swift] system: You are Qwen, created by Alibaba Cloud. You are a helpful assistant.\n",
      "[INFO:swift] args.lazy_tokenize: False\n"
     ]
    },
    {
     "data": {
      "application/vnd.jupyter.widget-view+json": {
       "model_id": "7dc97bf758944282a70a96d3ec34802f",
       "version_major": 2,
       "version_minor": 0
      },
      "text/plain": [
       "Generating train split: 0 examples [00:00, ? examples/s]"
      ]
     },
     "metadata": {},
     "output_type": "display_data"
    },
    {
     "data": {
      "application/vnd.jupyter.widget-view+json": {
       "model_id": "36384a55846345a0b08e52792f77cb99",
       "version_major": 2,
       "version_minor": 0
      },
      "text/plain": [
       "Map:   0%|          | 0/7500 [00:00<?, ? examples/s]"
      ]
     },
     "metadata": {},
     "output_type": "display_data"
    },
    {
     "data": {
      "application/vnd.jupyter.widget-view+json": {
       "model_id": "b2c76310e1ff42ea9274fe917ca1047e",
       "version_major": 2,
       "version_minor": 0
      },
      "text/plain": [
       "Filter:   0%|          | 0/7500 [00:00<?, ? examples/s]"
      ]
     },
     "metadata": {},
     "output_type": "display_data"
    },
    {
     "name": "stderr",
     "output_type": "stream",
     "text": [
      "[INFO:swift] train_dataset: Dataset({\n",
      "    features: ['query', 'response'],\n",
      "    num_rows: 7425\n",
      "})\n",
      "[INFO:swift] val_dataset: Dataset({\n",
      "    features: ['query', 'response'],\n",
      "    num_rows: 75\n",
      "})\n",
      "[INFO:swift] [INPUT_IDS] [151644, 8948, 198, 2610, 525, 1207, 16948, 11, 3465, 553, 54364, 14817, 13, 1446, 525, 264, 10950, 17847, 13, 151645, 198, 151644, 872, 198, 2610, 525, 264, 7548, 25530, 20976, 1103, 12875, 315, 21828, 6351, 11972, 34689, 6888, 5322, 3019, 553, 3019, 13, 5209, 1349, 279, 3491, 15516, 323, 11625, 432, 448, 2797, 32711, 13, 11112, 1493, 11221, 1447, 12, 64547, 279, 3881, 1995, 323, 279, 3405, 1660, 4588, 624, 12, 15623, 279, 6291, 1119, 19819, 7354, 11, 8241, 2797, 40841, 369, 1817, 624, 12, 6928, 678, 28117, 323, 28439, 3059, 624, 12, 1200, 857, 448, 264, 1590, 4226, 382, 5097, 697, 2033, 304, 279, 2701, 3561, 510, 58, 69769, 323, 28117, 921, 820, 508, 19357, 34776, 4226, 60, 33933, 8420, 374, 279, 3491, 510, 4340, 1657, 6785, 9363, 315, 220, 24, 21, 525, 1083, 65060, 315, 220, 16, 17, 30, 151645, 198, 151644, 77091, 198, 1654, 1156, 1140, 279, 9363, 315, 220, 24, 21, 311, 1490, 892, 525, 65060, 315, 220, 16, 17, 13, 576, 9363, 525, 220, 16, 11, 220, 17, 11, 220, 18, 11, 220, 19, 11, 220, 21, 11, 220, 23, 11, 220, 16, 17, 11, 220, 16, 21, 11, 220, 17, 19, 11, 220, 18, 17, 11, 220, 19, 23, 11, 323, 220, 24, 21, 13, 1205, 1490, 892, 9363, 525, 74916, 553, 220, 16, 17, 11, 1576, 421, 807, 525, 74916, 553, 220, 16, 17, 1221, 807, 525, 65060, 315, 220, 16, 17, 13, 1205, 646, 1779, 1105, 1817, 25, 220, 16, 374, 537, 11, 220, 17, 374, 537, 11, 220, 18, 374, 537, 11, 220, 19, 374, 537, 11, 220, 21, 374, 537, 11, 220, 23, 374, 537, 11, 220, 16, 17, 374, 11, 220, 16, 21, 374, 537, 11, 220, 17, 19, 374, 11, 220, 18, 17, 374, 537, 11, 220, 19, 23, 374, 11, 323, 220, 24, 21, 374, 13, 2055, 1052, 525, 57960, 79075, 90, 19, 31716, 9363, 315, 220, 24, 21, 429, 525, 65060, 315, 220, 16, 17, 13, 151645]\n",
      "[INFO:swift] [INPUT] <|im_start|>system\n",
      "You are Qwen, created by Alibaba Cloud. You are a helpful assistant.<|im_end|>\n",
      "<|im_start|>user\n",
      "You are a highly skilled mathematician capable of solving complex grade-school math problems step by step. Please read the problem carefully and solve it with clear reasoning. Follow these instructions:\n",
      "\n",
      "- Identify the known information and the question being asked.\n",
      "- Break the solution into logical steps, providing clear explanations for each.\n",
      "- Show all calculations and intermediate results.\n",
      "- Conclude with a final answer.\n",
      "\n",
      "Output your response in the following format:\n",
      "[Explanation and calculations]\n",
      "#### [Final numerical answer]   \n",
      "\n",
      "Here is the problem:\n",
      "How many positive factors of 96 are also multiples of 12?<|im_end|>\n",
      "<|im_start|>assistant\n",
      "We first list the factors of 96 to see which are multiples of 12. The factors are 1, 2, 3, 4, 6, 8, 12, 16, 24, 32, 48, and 96. We see which factors are divisible by 12, because if they are divisible by 12 then they are multiples of 12. We can check them each: 1 is not, 2 is not, 3 is not, 4 is not, 6 is not, 8 is not, 12 is, 16 is not, 24 is, 32 is not, 48 is, and 96 is. So there are $\\boxed{4}$ factors of 96 that are multiples of 12.<|im_end|>\n",
      "[INFO:swift] [LABELS_IDS] [-100, -100, -100, -100, -100, -100, -100, -100, -100, -100, -100, -100, -100, -100, -100, -100, -100, -100, -100, -100, -100, -100, -100, -100, -100, -100, -100, -100, -100, -100, -100, -100, -100, -100, -100, -100, -100, -100, -100, -100, -100, -100, -100, -100, -100, -100, -100, -100, -100, -100, -100, -100, -100, -100, -100, -100, -100, -100, -100, -100, -100, -100, -100, -100, -100, -100, -100, -100, -100, -100, -100, -100, -100, -100, -100, -100, -100, -100, -100, -100, -100, -100, -100, -100, -100, -100, -100, -100, -100, -100, -100, -100, -100, -100, -100, -100, -100, -100, -100, -100, -100, -100, -100, -100, -100, -100, -100, -100, -100, -100, -100, -100, -100, -100, -100, -100, -100, -100, -100, -100, -100, -100, -100, -100, -100, -100, -100, -100, -100, -100, -100, -100, -100, -100, -100, -100, -100, -100, -100, -100, -100, -100, -100, -100, -100, -100, 1654, 1156, 1140, 279, 9363, 315, 220, 24, 21, 311, 1490, 892, 525, 65060, 315, 220, 16, 17, 13, 576, 9363, 525, 220, 16, 11, 220, 17, 11, 220, 18, 11, 220, 19, 11, 220, 21, 11, 220, 23, 11, 220, 16, 17, 11, 220, 16, 21, 11, 220, 17, 19, 11, 220, 18, 17, 11, 220, 19, 23, 11, 323, 220, 24, 21, 13, 1205, 1490, 892, 9363, 525, 74916, 553, 220, 16, 17, 11, 1576, 421, 807, 525, 74916, 553, 220, 16, 17, 1221, 807, 525, 65060, 315, 220, 16, 17, 13, 1205, 646, 1779, 1105, 1817, 25, 220, 16, 374, 537, 11, 220, 17, 374, 537, 11, 220, 18, 374, 537, 11, 220, 19, 374, 537, 11, 220, 21, 374, 537, 11, 220, 23, 374, 537, 11, 220, 16, 17, 374, 11, 220, 16, 21, 374, 537, 11, 220, 17, 19, 374, 11, 220, 18, 17, 374, 537, 11, 220, 19, 23, 374, 11, 323, 220, 24, 21, 374, 13, 2055, 1052, 525, 57960, 79075, 90, 19, 31716, 9363, 315, 220, 24, 21, 429, 525, 65060, 315, 220, 16, 17, 13, 151645]\n",
      "[INFO:swift] [LABELS] [-100 * 146]We first list the factors of 96 to see which are multiples of 12. The factors are 1, 2, 3, 4, 6, 8, 12, 16, 24, 32, 48, and 96. We see which factors are divisible by 12, because if they are divisible by 12 then they are multiples of 12. We can check them each: 1 is not, 2 is not, 3 is not, 4 is not, 6 is not, 8 is not, 12 is, 16 is not, 24 is, 32 is not, 48 is, and 96 is. So there are $\\boxed{4}$ factors of 96 that are multiples of 12.<|im_end|>\n"
     ]
    },
    {
     "data": {
      "application/vnd.jupyter.widget-view+json": {
       "model_id": "eb34ad6812344226a30a159334d1f00c",
       "version_major": 2,
       "version_minor": 0
      },
      "text/plain": [
       "Map:   0%|          | 0/7425 [00:00<?, ?it/s]"
      ]
     },
     "metadata": {},
     "output_type": "display_data"
    },
    {
     "data": {
      "application/vnd.jupyter.widget-view+json": {
       "model_id": "b6f0858453cf497ba327b8290ca83e1c",
       "version_major": 2,
       "version_minor": 0
      },
      "text/plain": [
       "Map:   0%|          | 0/75 [00:00<?, ?it/s]"
      ]
     },
     "metadata": {},
     "output_type": "display_data"
    },
    {
     "name": "stderr",
     "output_type": "stream",
     "text": [
      "[INFO:swift] Dataset Token Length: 434.309899±249.057953, min=163.000000, max=2849.000000, size=7425\n",
      "[INFO:swift] Dataset Token Length: 441.853333±276.012497, min=182.000000, max=1915.000000, size=75\n",
      "[INFO:swift] training_args: Seq2SeqTrainingArguments(\n",
      "_n_gpu=1,\n",
      "acc_strategy=token,\n",
      "accelerator_config={'split_batches': False, 'dispatch_batches': False, 'even_batches': True, 'use_seedable_sampler': True, 'non_blocking': False, 'gradient_accumulation_kwargs': None, 'use_configured_state': False},\n",
      "adafactor=False,\n",
      "adam_beta1=0.9,\n",
      "adam_beta2=0.95,\n",
      "adam_epsilon=1e-08,\n",
      "additional_saved_files=[],\n",
      "auto_find_batch_size=False,\n",
      "average_tokens_across_devices=False,\n",
      "batch_eval_metrics=False,\n",
      "bf16=True,\n",
      "bf16_full_eval=False,\n",
      "data_seed=42,\n",
      "dataloader_drop_last=False,\n",
      "dataloader_num_workers=1,\n",
      "dataloader_persistent_workers=False,\n",
      "dataloader_pin_memory=True,\n",
      "dataloader_prefetch_factor=None,\n",
      "ddp_backend=None,\n",
      "ddp_broadcast_buffers=None,\n",
      "ddp_bucket_cap_mb=None,\n",
      "ddp_find_unused_parameters=None,\n",
      "ddp_timeout=1800,\n",
      "debug=[],\n",
      "deepspeed=None,\n",
      "disable_tqdm=False,\n",
      "dispatch_batches=None,\n",
      "do_eval=True,\n",
      "do_predict=False,\n",
      "do_train=False,\n",
      "eval_accumulation_steps=None,\n",
      "eval_delay=0,\n",
      "eval_do_concat_batches=True,\n",
      "eval_on_start=False,\n",
      "eval_steps=200,\n",
      "eval_strategy=steps,\n",
      "eval_use_gather_object=False,\n",
      "evaluation_strategy=None,\n",
      "fp16=False,\n",
      "fp16_backend=auto,\n",
      "fp16_full_eval=False,\n",
      "fp16_opt_level=O1,\n",
      "fsdp=[],\n",
      "fsdp_config={'min_num_params': 0, 'xla': False, 'xla_fsdp_v2': False, 'xla_fsdp_grad_ckpt': False},\n",
      "fsdp_min_num_params=0,\n",
      "fsdp_transformer_layer_cls_to_wrap=None,\n",
      "full_determinism=False,\n",
      "generation_config=GenerationConfig {\n",
      "  \"bos_token_id\": 151643,\n",
      "  \"do_sample\": true,\n",
      "  \"eos_token_id\": 151645,\n",
      "  \"max_new_tokens\": 2048,\n",
      "  \"pad_token_id\": 151643,\n",
      "  \"repetition_penalty\": 1.1,\n",
      "  \"temperature\": 0.7,\n",
      "  \"top_k\": 20,\n",
      "  \"top_p\": 0.8\n",
      "}\n",
      ",\n",
      "generation_max_length=None,\n",
      "generation_num_beams=None,\n",
      "gradient_accumulation_steps=16,\n",
      "gradient_checkpointing=True,\n",
      "gradient_checkpointing_kwargs=None,\n",
      "greater_is_better=False,\n",
      "group_by_length=False,\n",
      "half_precision_backend=auto,\n",
      "hub_always_push=False,\n",
      "hub_model_id=None,\n",
      "hub_private_repo=False,\n",
      "hub_strategy=every_save,\n",
      "hub_token=<HUB_TOKEN>,\n",
      "ignore_data_skip=False,\n",
      "include_for_metrics=[],\n",
      "include_inputs_for_metrics=False,\n",
      "include_num_input_tokens_seen=False,\n",
      "include_tokens_per_second=False,\n",
      "jit_mode_eval=False,\n",
      "label_names=None,\n",
      "label_smoothing_factor=0.0,\n",
      "learning_rate=1e-05,\n",
      "length_column_name=length,\n",
      "load_best_model_at_end=False,\n",
      "local_rank=0,\n",
      "log_level=passive,\n",
      "log_level_replica=warning,\n",
      "log_on_each_node=True,\n",
      "logging_dir=/mnt/workspace/output/qwen2_5-0_5b-instruct/v1-20241207-153823/runs,\n",
      "logging_first_step=True,\n",
      "logging_nan_inf_filter=True,\n",
      "logging_steps=5,\n",
      "logging_strategy=steps,\n",
      "loss_name=None,\n",
      "lr_scheduler_kwargs={},\n",
      "lr_scheduler_type=cosine,\n",
      "max_grad_norm=1,\n",
      "max_steps=-1,\n",
      "metric_for_best_model=loss,\n",
      "metric_warmup_step=0,\n",
      "mp_parameters=,\n",
      "neftune_noise_alpha=None,\n",
      "no_cuda=False,\n",
      "num_train_epochs=1,\n",
      "optim=adamw_torch,\n",
      "optim_args=None,\n",
      "optim_target_modules=None,\n",
      "output_dir=/mnt/workspace/output/qwen2_5-0_5b-instruct/v1-20241207-153823,\n",
      "overwrite_output_dir=False,\n",
      "past_index=-1,\n",
      "per_device_eval_batch_size=1,\n",
      "per_device_train_batch_size=1,\n",
      "predict_with_generate=False,\n",
      "prediction_loss_only=False,\n",
      "push_to_hub=False,\n",
      "push_to_hub_model_id=None,\n",
      "push_to_hub_organization=None,\n",
      "push_to_hub_token=<PUSH_TO_HUB_TOKEN>,\n",
      "ray_scope=last,\n",
      "remove_unused_columns=False,\n",
      "report_to=['tensorboard'],\n",
      "restore_callback_states_from_checkpoint=False,\n",
      "resume_from_checkpoint=None,\n",
      "run_name=/mnt/workspace/output/qwen2_5-0_5b-instruct/v1-20241207-153823,\n",
      "save_on_each_node=False,\n",
      "save_only_model=False,\n",
      "save_safetensors=True,\n",
      "save_steps=200,\n",
      "save_strategy=steps,\n",
      "save_total_limit=2,\n",
      "seed=42,\n",
      "skip_memory_metrics=True,\n",
      "sortish_sampler=False,\n",
      "split_batches=None,\n",
      "tf32=None,\n",
      "torch_compile=False,\n",
      "torch_compile_backend=None,\n",
      "torch_compile_mode=None,\n",
      "torch_empty_cache_steps=None,\n",
      "torchdynamo=None,\n",
      "tpu_metrics_debug=False,\n",
      "tpu_num_cores=None,\n",
      "train_dataset_sample=-1,\n",
      "train_sampler_random=True,\n",
      "use_cpu=False,\n",
      "use_ipex=False,\n",
      "use_legacy_prediction_loop=False,\n",
      "use_liger_kernel=False,\n",
      "use_mps_device=False,\n",
      "warmup_ratio=0.05,\n",
      "warmup_steps=0,\n",
      "weight_decay=0.1,\n",
      ")\n"
     ]
    },
    {
     "name": "stdout",
     "output_type": "stream",
     "text": [
      "[2024-12-07 15:38:45,276] [INFO] [real_accelerator.py:219:get_accelerator] Setting ds_accelerator to cuda (auto detect)\n"
     ]
    },
    {
     "name": "stderr",
     "output_type": "stream",
     "text": [
      "/usr/local/lib/python3.10/site-packages/swift/trainers/mixin.py:93: FutureWarning: `tokenizer` is deprecated and will be removed in version 5.0.0 for `Seq2SeqTrainer.__init__`. Use `processing_class` instead.\n",
      "  super().__init__(\n",
      "df: /root/.triton/autotune: 没有那个文件或目录\n",
      "[INFO:swift] The SftArguments will be saved in: /mnt/workspace/output/qwen2_5-0_5b-instruct/v1-20241207-153823/sft_args.json\n",
      "[INFO:swift] The Seq2SeqTrainingArguments will be saved in: /mnt/workspace/output/qwen2_5-0_5b-instruct/v1-20241207-153823/training_args.json\n",
      "[INFO:swift] The logging file will be saved in: /mnt/workspace/output/qwen2_5-0_5b-instruct/v1-20241207-153823/logging.jsonl\n"
     ]
    },
    {
     "data": {
      "application/vnd.jupyter.widget-view+json": {
       "model_id": "ba447ce793374d6683f90fc18a2e8026",
       "version_major": 2,
       "version_minor": 0
      },
      "text/plain": [
       "Train:   0%|          | 0/464 [00:00<?, ?it/s]"
      ]
     },
     "metadata": {},
     "output_type": "display_data"
    },
    {
     "name": "stdout",
     "output_type": "stream",
     "text": [
      "{'loss': 0.91355658, 'acc': 0.74084908, 'grad_norm': 17.625, 'learning_rate': 4.2e-07, 'memory(GiB)': 5.97, 'train_speed(iter/s)': 0.131104, 'epoch': 0.0, 'global_step/max_steps': '1/464', 'percentage': '0.22%', 'elapsed_time': '6s', 'remaining_time': '53m 53s'}\n",
      "{'loss': 0.81045878, 'acc': 0.77156085, 'grad_norm': 15.625, 'learning_rate': 2.08e-06, 'memory(GiB)': 9.48, 'train_speed(iter/s)': 0.138411, 'epoch': 0.01, 'global_step/max_steps': '5/464', 'percentage': '1.08%', 'elapsed_time': '35s', 'remaining_time': '54m 17s'}\n",
      "{'loss': 0.72366648, 'acc': 0.77797718, 'grad_norm': 9.4375, 'learning_rate': 4.17e-06, 'memory(GiB)': 14.56, 'train_speed(iter/s)': 0.138284, 'epoch': 0.02, 'global_step/max_steps': '10/464', 'percentage': '2.16%', 'elapsed_time': '1m 11s', 'remaining_time': '54m 13s'}\n",
      "{'loss': 0.84002457, 'acc': 0.76303234, 'grad_norm': 6.59375, 'learning_rate': 6.25e-06, 'memory(GiB)': 8.65, 'train_speed(iter/s)': 0.139749, 'epoch': 0.03, 'global_step/max_steps': '15/464', 'percentage': '3.23%', 'elapsed_time': '1m 46s', 'remaining_time': '53m 13s'}\n",
      "{'loss': 0.69244108, 'acc': 0.79206729, 'grad_norm': 5.25, 'learning_rate': 8.33e-06, 'memory(GiB)': 13.22, 'train_speed(iter/s)': 0.138457, 'epoch': 0.04, 'global_step/max_steps': '20/464', 'percentage': '4.31%', 'elapsed_time': '2m 23s', 'remaining_time': '53m 12s'}\n",
      "{'loss': 0.72735419, 'acc': 0.78630276, 'grad_norm': 5.1875, 'learning_rate': 1e-05, 'memory(GiB)': 13.22, 'train_speed(iter/s)': 0.136032, 'epoch': 0.05, 'global_step/max_steps': '25/464', 'percentage': '5.39%', 'elapsed_time': '3m 3s', 'remaining_time': '53m 35s'}\n",
      "{'loss': 0.73702273, 'acc': 0.77320671, 'grad_norm': 5.09375, 'learning_rate': 1e-05, 'memory(GiB)': 13.22, 'train_speed(iter/s)': 0.135486, 'epoch': 0.06, 'global_step/max_steps': '30/464', 'percentage': '6.47%', 'elapsed_time': '3m 40s', 'remaining_time': '53m 13s'}\n",
      "{'loss': 0.75793238, 'acc': 0.77663145, 'grad_norm': 4.75, 'learning_rate': 9.98e-06, 'memory(GiB)': 13.22, 'train_speed(iter/s)': 0.136071, 'epoch': 0.08, 'global_step/max_steps': '35/464', 'percentage': '7.54%', 'elapsed_time': '4m 16s', 'remaining_time': '52m 24s'}\n",
      "{'loss': 0.81220512, 'acc': 0.77364941, 'grad_norm': 4.90625, 'learning_rate': 9.97e-06, 'memory(GiB)': 13.22, 'train_speed(iter/s)': 0.136478, 'epoch': 0.09, 'global_step/max_steps': '40/464', 'percentage': '8.62%', 'elapsed_time': '4m 52s', 'remaining_time': '51m 39s'}\n",
      "{'loss': 0.80624065, 'acc': 0.76229172, 'grad_norm': 5.34375, 'learning_rate': 9.94e-06, 'memory(GiB)': 14.73, 'train_speed(iter/s)': 0.136594, 'epoch': 0.1, 'global_step/max_steps': '45/464', 'percentage': '9.70%', 'elapsed_time': '5m 28s', 'remaining_time': '51m 1s'}\n",
      "{'loss': 0.69795637, 'acc': 0.79248729, 'grad_norm': 4.78125, 'learning_rate': 9.91e-06, 'memory(GiB)': 11.4, 'train_speed(iter/s)': 0.136518, 'epoch': 0.11, 'global_step/max_steps': '50/464', 'percentage': '10.78%', 'elapsed_time': '6m 5s', 'remaining_time': '50m 27s'}\n",
      "{'loss': 0.76358247, 'acc': 0.7928062, 'grad_norm': 5.90625, 'learning_rate': 9.88e-06, 'memory(GiB)': 11.4, 'train_speed(iter/s)': 0.137272, 'epoch': 0.12, 'global_step/max_steps': '55/464', 'percentage': '11.85%', 'elapsed_time': '6m 40s', 'remaining_time': '49m 34s'}\n",
      "{'loss': 0.70763178, 'acc': 0.79596486, 'grad_norm': 4.21875, 'learning_rate': 9.84e-06, 'memory(GiB)': 11.4, 'train_speed(iter/s)': 0.13777, 'epoch': 0.13, 'global_step/max_steps': '60/464', 'percentage': '12.93%', 'elapsed_time': '7m 14s', 'remaining_time': '48m 48s'}\n",
      "{'loss': 0.71518102, 'acc': 0.78906484, 'grad_norm': 5.5, 'learning_rate': 9.79e-06, 'memory(GiB)': 11.4, 'train_speed(iter/s)': 0.137901, 'epoch': 0.14, 'global_step/max_steps': '65/464', 'percentage': '14.01%', 'elapsed_time': '7m 50s', 'remaining_time': '48m 9s'}\n",
      "{'loss': 0.74414473, 'acc': 0.78072529, 'grad_norm': 5.90625, 'learning_rate': 9.73e-06, 'memory(GiB)': 11.4, 'train_speed(iter/s)': 0.139111, 'epoch': 0.15, 'global_step/max_steps': '70/464', 'percentage': '15.09%', 'elapsed_time': '8m 22s', 'remaining_time': '47m 8s'}\n",
      "{'loss': 0.71412773, 'acc': 0.79131522, 'grad_norm': 5.34375, 'learning_rate': 9.67e-06, 'memory(GiB)': 11.4, 'train_speed(iter/s)': 0.138288, 'epoch': 0.16, 'global_step/max_steps': '75/464', 'percentage': '16.16%', 'elapsed_time': '9m 1s', 'remaining_time': '46m 49s'}\n",
      "{'loss': 0.82215662, 'acc': 0.77386718, 'grad_norm': 5.34375, 'learning_rate': 9.61e-06, 'memory(GiB)': 11.4, 'train_speed(iter/s)': 0.138705, 'epoch': 0.17, 'global_step/max_steps': '80/464', 'percentage': '17.24%', 'elapsed_time': '9m 36s', 'remaining_time': '46m 5s'}\n",
      "{'loss': 0.72122374, 'acc': 0.7938786, 'grad_norm': 5.46875, 'learning_rate': 9.53e-06, 'memory(GiB)': 11.4, 'train_speed(iter/s)': 0.139155, 'epoch': 0.18, 'global_step/max_steps': '85/464', 'percentage': '18.32%', 'elapsed_time': '10m 10s', 'remaining_time': '45m 20s'}\n",
      "{'loss': 0.73595152, 'acc': 0.80317192, 'grad_norm': 6.71875, 'learning_rate': 9.46e-06, 'memory(GiB)': 11.4, 'train_speed(iter/s)': 0.139095, 'epoch': 0.19, 'global_step/max_steps': '90/464', 'percentage': '19.40%', 'elapsed_time': '10m 46s', 'remaining_time': '44m 46s'}\n",
      "{'loss': 0.73673797, 'acc': 0.79157181, 'grad_norm': 5.75, 'learning_rate': 9.37e-06, 'memory(GiB)': 14.63, 'train_speed(iter/s)': 0.139216, 'epoch': 0.2, 'global_step/max_steps': '95/464', 'percentage': '20.47%', 'elapsed_time': '11m 21s', 'remaining_time': '44m 8s'}\n",
      "{'loss': 0.64144359, 'acc': 0.80507135, 'grad_norm': 7.3125, 'learning_rate': 9.28e-06, 'memory(GiB)': 10.61, 'train_speed(iter/s)': 0.139768, 'epoch': 0.22, 'global_step/max_steps': '100/464', 'percentage': '21.55%', 'elapsed_time': '11m 54s', 'remaining_time': '43m 21s'}\n",
      "{'loss': 0.78088784, 'acc': 0.78256483, 'grad_norm': 4.84375, 'learning_rate': 9.19e-06, 'memory(GiB)': 10.61, 'train_speed(iter/s)': 0.139765, 'epoch': 0.23, 'global_step/max_steps': '105/464', 'percentage': '22.63%', 'elapsed_time': '12m 30s', 'remaining_time': '42m 46s'}\n",
      "{'loss': 0.73079057, 'acc': 0.77924991, 'grad_norm': 5.3125, 'learning_rate': 9.09e-06, 'memory(GiB)': 10.61, 'train_speed(iter/s)': 0.139273, 'epoch': 0.24, 'global_step/max_steps': '110/464', 'percentage': '23.71%', 'elapsed_time': '13m 9s', 'remaining_time': '42m 19s'}\n",
      "{'loss': 0.67603235, 'acc': 0.79094768, 'grad_norm': 5.15625, 'learning_rate': 8.98e-06, 'memory(GiB)': 10.61, 'train_speed(iter/s)': 0.139077, 'epoch': 0.25, 'global_step/max_steps': '115/464', 'percentage': '24.78%', 'elapsed_time': '13m 46s', 'remaining_time': '41m 47s'}\n",
      "{'loss': 0.69055009, 'acc': 0.78514657, 'grad_norm': 5.78125, 'learning_rate': 8.87e-06, 'memory(GiB)': 10.61, 'train_speed(iter/s)': 0.139247, 'epoch': 0.26, 'global_step/max_steps': '120/464', 'percentage': '25.86%', 'elapsed_time': '14m 21s', 'remaining_time': '41m 8s'}\n",
      "{'loss': 0.70362277, 'acc': 0.79117837, 'grad_norm': 5.75, 'learning_rate': 8.76e-06, 'memory(GiB)': 10.61, 'train_speed(iter/s)': 0.139102, 'epoch': 0.27, 'global_step/max_steps': '125/464', 'percentage': '26.94%', 'elapsed_time': '14m 57s', 'remaining_time': '40m 35s'}\n",
      "{'loss': 0.68814049, 'acc': 0.7917295, 'grad_norm': 4.96875, 'learning_rate': 8.64e-06, 'memory(GiB)': 10.61, 'train_speed(iter/s)': 0.13924, 'epoch': 0.28, 'global_step/max_steps': '130/464', 'percentage': '28.02%', 'elapsed_time': '15m 32s', 'remaining_time': '39m 57s'}\n",
      "{'loss': 0.71525569, 'acc': 0.78037457, 'grad_norm': 4.65625, 'learning_rate': 8.51e-06, 'memory(GiB)': 10.61, 'train_speed(iter/s)': 0.139456, 'epoch': 0.29, 'global_step/max_steps': '135/464', 'percentage': '29.09%', 'elapsed_time': '16m 7s', 'remaining_time': '39m 17s'}\n",
      "{'loss': 0.7477592, 'acc': 0.79715405, 'grad_norm': 6.09375, 'learning_rate': 8.38e-06, 'memory(GiB)': 10.61, 'train_speed(iter/s)': 0.1401, 'epoch': 0.3, 'global_step/max_steps': '140/464', 'percentage': '30.17%', 'elapsed_time': '16m 38s', 'remaining_time': '38m 31s'}\n",
      "{'loss': 0.81471395, 'acc': 0.77648478, 'grad_norm': 5.375, 'learning_rate': 8.25e-06, 'memory(GiB)': 10.61, 'train_speed(iter/s)': 0.139996, 'epoch': 0.31, 'global_step/max_steps': '145/464', 'percentage': '31.25%', 'elapsed_time': '17m 15s', 'remaining_time': '37m 57s'}\n",
      "{'loss': 0.8017621, 'acc': 0.76503005, 'grad_norm': 5.125, 'learning_rate': 8.11e-06, 'memory(GiB)': 10.61, 'train_speed(iter/s)': 0.140276, 'epoch': 0.32, 'global_step/max_steps': '150/464', 'percentage': '32.33%', 'elapsed_time': '17m 48s', 'remaining_time': '37m 17s'}\n",
      "{'loss': 0.72196889, 'acc': 0.7847857, 'grad_norm': 5.28125, 'learning_rate': 7.97e-06, 'memory(GiB)': 10.61, 'train_speed(iter/s)': 0.140364, 'epoch': 0.33, 'global_step/max_steps': '155/464', 'percentage': '33.41%', 'elapsed_time': '18m 23s', 'remaining_time': '36m 40s'}\n",
      "{'loss': 0.72655072, 'acc': 0.78536329, 'grad_norm': 6.75, 'learning_rate': 7.82e-06, 'memory(GiB)': 10.61, 'train_speed(iter/s)': 0.140469, 'epoch': 0.34, 'global_step/max_steps': '160/464', 'percentage': '34.48%', 'elapsed_time': '18m 58s', 'remaining_time': '36m 2s'}\n",
      "{'loss': 0.77065125, 'acc': 0.78215175, 'grad_norm': 4.28125, 'learning_rate': 7.67e-06, 'memory(GiB)': 10.61, 'train_speed(iter/s)': 0.140415, 'epoch': 0.36, 'global_step/max_steps': '165/464', 'percentage': '35.56%', 'elapsed_time': '19m 34s', 'remaining_time': '35m 28s'}\n",
      "{'loss': 0.7011981, 'acc': 0.78998494, 'grad_norm': 5.5, 'learning_rate': 7.52e-06, 'memory(GiB)': 10.61, 'train_speed(iter/s)': 0.140442, 'epoch': 0.37, 'global_step/max_steps': '170/464', 'percentage': '36.64%', 'elapsed_time': '20m 9s', 'remaining_time': '34m 52s'}\n",
      "{'loss': 0.72275734, 'acc': 0.77167797, 'grad_norm': 5.28125, 'learning_rate': 7.36e-06, 'memory(GiB)': 10.61, 'train_speed(iter/s)': 0.140857, 'epoch': 0.38, 'global_step/max_steps': '175/464', 'percentage': '37.72%', 'elapsed_time': '20m 41s', 'remaining_time': '34m 10s'}\n",
      "{'loss': 0.68018184, 'acc': 0.80560894, 'grad_norm': 5.375, 'learning_rate': 7.21e-06, 'memory(GiB)': 10.61, 'train_speed(iter/s)': 0.14045, 'epoch': 0.39, 'global_step/max_steps': '180/464', 'percentage': '38.79%', 'elapsed_time': '21m 20s', 'remaining_time': '33m 41s'}\n",
      "{'loss': 0.78889179, 'acc': 0.78444409, 'grad_norm': 5.59375, 'learning_rate': 7.04e-06, 'memory(GiB)': 10.61, 'train_speed(iter/s)': 0.14053, 'epoch': 0.4, 'global_step/max_steps': '185/464', 'percentage': '39.87%', 'elapsed_time': '21m 55s', 'remaining_time': '33m 4s'}\n",
      "{'loss': 0.72826548, 'acc': 0.79023881, 'grad_norm': 4.65625, 'learning_rate': 6.88e-06, 'memory(GiB)': 10.61, 'train_speed(iter/s)': 0.140639, 'epoch': 0.41, 'global_step/max_steps': '190/464', 'percentage': '40.95%', 'elapsed_time': '22m 30s', 'remaining_time': '32m 27s'}\n",
      "{'loss': 0.65291495, 'acc': 0.79759912, 'grad_norm': 4.46875, 'learning_rate': 6.71e-06, 'memory(GiB)': 10.61, 'train_speed(iter/s)': 0.140495, 'epoch': 0.42, 'global_step/max_steps': '195/464', 'percentage': '42.03%', 'elapsed_time': '23m 7s', 'remaining_time': '31m 53s'}\n",
      "{'loss': 0.6589788, 'acc': 0.79874477, 'grad_norm': 4.125, 'learning_rate': 6.55e-06, 'memory(GiB)': 10.61, 'train_speed(iter/s)': 0.140607, 'epoch': 0.43, 'global_step/max_steps': '200/464', 'percentage': '43.10%', 'elapsed_time': '23m 41s', 'remaining_time': '31m 16s'}\n",
      "\n"
     ]
    },
    {
     "data": {
      "application/vnd.jupyter.widget-view+json": {
       "model_id": "49515a3988cd46b7ba1d7fa236fe8f57",
       "version_major": 2,
       "version_minor": 0
      },
      "text/plain": [
       "Val:   0%|          | 0/75 [00:00<?, ?it/s]"
      ]
     },
     "metadata": {},
     "output_type": "display_data"
    },
    {
     "name": "stdout",
     "output_type": "stream",
     "text": [
      "{'eval_loss': 0.6997422, 'eval_acc': 0.81847602, 'eval_runtime': 9.9539, 'eval_samples_per_second': 7.535, 'eval_steps_per_second': 7.535, 'epoch': 0.43, 'global_step/max_steps': '200/464', 'percentage': '43.10%', 'elapsed_time': '23m 51s', 'remaining_time': '31m 29s'}\n"
     ]
    },
    {
     "name": "stderr",
     "output_type": "stream",
     "text": [
      "Trainer.tokenizer is now deprecated. You should use Trainer.processing_class instead.\n",
      "Trainer.tokenizer is now deprecated. You should use Trainer.processing_class instead.\n",
      "Trainer.tokenizer is now deprecated. You should use Trainer.processing_class instead.\n",
      "[INFO:swift] Saving model checkpoint to /mnt/workspace/output/qwen2_5-0_5b-instruct/v1-20241207-153823/checkpoint-200\n"
     ]
    },
    {
     "name": "stdout",
     "output_type": "stream",
     "text": [
      "{'loss': 0.67135997, 'acc': 0.80582895, 'grad_norm': 4.4375, 'learning_rate': 6.37e-06, 'memory(GiB)': 10.61, 'train_speed(iter/s)': 0.139292, 'epoch': 0.44, 'global_step/max_steps': '205/464', 'percentage': '44.18%', 'elapsed_time': '24m 31s', 'remaining_time': '30m 58s'}\n",
      "{'loss': 0.75457659, 'acc': 0.78382716, 'grad_norm': 6.125, 'learning_rate': 6.2e-06, 'memory(GiB)': 10.61, 'train_speed(iter/s)': 0.13952, 'epoch': 0.45, 'global_step/max_steps': '210/464', 'percentage': '45.26%', 'elapsed_time': '25m 4s', 'remaining_time': '30m 19s'}\n",
      "{'loss': 0.67305217, 'acc': 0.79005198, 'grad_norm': 4.65625, 'learning_rate': 6.03e-06, 'memory(GiB)': 10.61, 'train_speed(iter/s)': 0.139205, 'epoch': 0.46, 'global_step/max_steps': '215/464', 'percentage': '46.34%', 'elapsed_time': '25m 43s', 'remaining_time': '29m 47s'}\n",
      "{'loss': 0.72196145, 'acc': 0.78962088, 'grad_norm': 4.5, 'learning_rate': 5.85e-06, 'memory(GiB)': 10.61, 'train_speed(iter/s)': 0.13911, 'epoch': 0.47, 'global_step/max_steps': '220/464', 'percentage': '47.41%', 'elapsed_time': '26m 20s', 'remaining_time': '29m 13s'}\n",
      "{'loss': 0.74636369, 'acc': 0.78708439, 'grad_norm': 5.3125, 'learning_rate': 5.68e-06, 'memory(GiB)': 10.61, 'train_speed(iter/s)': 0.139125, 'epoch': 0.48, 'global_step/max_steps': '225/464', 'percentage': '48.49%', 'elapsed_time': '26m 56s', 'remaining_time': '28m 37s'}\n",
      "{'loss': 0.68792491, 'acc': 0.80009127, 'grad_norm': 3.671875, 'learning_rate': 5.5e-06, 'memory(GiB)': 10.61, 'train_speed(iter/s)': 0.139077, 'epoch': 0.5, 'global_step/max_steps': '230/464', 'percentage': '49.57%', 'elapsed_time': '27m 33s', 'remaining_time': '28m 1s'}\n",
      "{'loss': 0.71384125, 'acc': 0.7793786, 'grad_norm': 4.40625, 'learning_rate': 5.32e-06, 'memory(GiB)': 10.61, 'train_speed(iter/s)': 0.13888, 'epoch': 0.51, 'global_step/max_steps': '235/464', 'percentage': '50.65%', 'elapsed_time': '28m 11s', 'remaining_time': '27m 28s'}\n",
      "{'loss': 0.7498755, 'acc': 0.78286119, 'grad_norm': 4.53125, 'learning_rate': 5.14e-06, 'memory(GiB)': 10.61, 'train_speed(iter/s)': 0.13896, 'epoch': 0.52, 'global_step/max_steps': '240/464', 'percentage': '51.72%', 'elapsed_time': '28m 46s', 'remaining_time': '26m 51s'}\n",
      "{'loss': 0.68955622, 'acc': 0.79041629, 'grad_norm': 5.71875, 'learning_rate': 4.96e-06, 'memory(GiB)': 10.61, 'train_speed(iter/s)': 0.139192, 'epoch': 0.53, 'global_step/max_steps': '245/464', 'percentage': '52.80%', 'elapsed_time': '29m 19s', 'remaining_time': '26m 12s'}\n",
      "{'loss': 0.68743367, 'acc': 0.797995, 'grad_norm': 4.90625, 'learning_rate': 4.79e-06, 'memory(GiB)': 10.61, 'train_speed(iter/s)': 0.139468, 'epoch': 0.54, 'global_step/max_steps': '250/464', 'percentage': '53.88%', 'elapsed_time': '29m 51s', 'remaining_time': '25m 33s'}\n",
      "{'loss': 0.74103742, 'acc': 0.78075948, 'grad_norm': 5.5, 'learning_rate': 4.61e-06, 'memory(GiB)': 10.61, 'train_speed(iter/s)': 0.139438, 'epoch': 0.55, 'global_step/max_steps': '255/464', 'percentage': '54.96%', 'elapsed_time': '30m 28s', 'remaining_time': '24m 58s'}\n",
      "{'loss': 0.66854057, 'acc': 0.78434744, 'grad_norm': 4.25, 'learning_rate': 4.43e-06, 'memory(GiB)': 10.61, 'train_speed(iter/s)': 0.139538, 'epoch': 0.56, 'global_step/max_steps': '260/464', 'percentage': '56.03%', 'elapsed_time': '31m 2s', 'remaining_time': '24m 21s'}\n",
      "{'loss': 0.67581458, 'acc': 0.79364858, 'grad_norm': 5.71875, 'learning_rate': 4.25e-06, 'memory(GiB)': 10.61, 'train_speed(iter/s)': 0.139495, 'epoch': 0.57, 'global_step/max_steps': '265/464', 'percentage': '57.11%', 'elapsed_time': '31m 39s', 'remaining_time': '23m 46s'}\n",
      "{'loss': 0.76632452, 'acc': 0.77680387, 'grad_norm': 4.46875, 'learning_rate': 4.08e-06, 'memory(GiB)': 10.61, 'train_speed(iter/s)': 0.139399, 'epoch': 0.58, 'global_step/max_steps': '270/464', 'percentage': '58.19%', 'elapsed_time': '32m 16s', 'remaining_time': '23m 11s'}\n",
      "{'loss': 0.676545, 'acc': 0.78755503, 'grad_norm': 4.1875, 'learning_rate': 3.9e-06, 'memory(GiB)': 10.61, 'train_speed(iter/s)': 0.139197, 'epoch': 0.59, 'global_step/max_steps': '275/464', 'percentage': '59.27%', 'elapsed_time': '32m 54s', 'remaining_time': '22m 37s'}\n",
      "{'loss': 0.7581316, 'acc': 0.78072929, 'grad_norm': 5.5625, 'learning_rate': 3.73e-06, 'memory(GiB)': 10.61, 'train_speed(iter/s)': 0.139391, 'epoch': 0.6, 'global_step/max_steps': '280/464', 'percentage': '60.34%', 'elapsed_time': '33m 28s', 'remaining_time': '21m 59s'}\n",
      "{'loss': 0.72743883, 'acc': 0.79049654, 'grad_norm': 5.40625, 'learning_rate': 3.56e-06, 'memory(GiB)': 10.61, 'train_speed(iter/s)': 0.139469, 'epoch': 0.61, 'global_step/max_steps': '285/464', 'percentage': '61.42%', 'elapsed_time': '34m 2s', 'remaining_time': '21m 23s'}\n",
      "{'loss': 0.73973145, 'acc': 0.78710604, 'grad_norm': 5.84375, 'learning_rate': 3.39e-06, 'memory(GiB)': 10.61, 'train_speed(iter/s)': 0.139602, 'epoch': 0.62, 'global_step/max_steps': '290/464', 'percentage': '62.50%', 'elapsed_time': '34m 36s', 'remaining_time': '20m 46s'}\n",
      "{'loss': 0.7970808, 'acc': 0.76964235, 'grad_norm': 5.375, 'learning_rate': 3.22e-06, 'memory(GiB)': 10.61, 'train_speed(iter/s)': 0.139692, 'epoch': 0.64, 'global_step/max_steps': '295/464', 'percentage': '63.58%', 'elapsed_time': '35m 11s', 'remaining_time': '20m 9s'}\n",
      "{'loss': 0.75689845, 'acc': 0.78742533, 'grad_norm': 4.71875, 'learning_rate': 3.05e-06, 'memory(GiB)': 10.61, 'train_speed(iter/s)': 0.139629, 'epoch': 0.65, 'global_step/max_steps': '300/464', 'percentage': '64.66%', 'elapsed_time': '35m 47s', 'remaining_time': '19m 34s'}\n",
      "{'loss': 0.69644375, 'acc': 0.78794632, 'grad_norm': 4.0, 'learning_rate': 2.89e-06, 'memory(GiB)': 10.61, 'train_speed(iter/s)': 0.139588, 'epoch': 0.66, 'global_step/max_steps': '305/464', 'percentage': '65.73%', 'elapsed_time': '36m 24s', 'remaining_time': '18m 58s'}\n",
      "{'loss': 0.72061219, 'acc': 0.79097061, 'grad_norm': 6.40625, 'learning_rate': 2.73e-06, 'memory(GiB)': 10.61, 'train_speed(iter/s)': 0.139565, 'epoch': 0.67, 'global_step/max_steps': '310/464', 'percentage': '66.81%', 'elapsed_time': '37m 0s', 'remaining_time': '18m 23s'}\n",
      "{'loss': 0.68431187, 'acc': 0.79759188, 'grad_norm': 4.75, 'learning_rate': 2.57e-06, 'memory(GiB)': 10.61, 'train_speed(iter/s)': 0.139752, 'epoch': 0.68, 'global_step/max_steps': '315/464', 'percentage': '67.89%', 'elapsed_time': '37m 33s', 'remaining_time': '17m 45s'}\n",
      "{'loss': 0.7061265, 'acc': 0.78679318, 'grad_norm': 5.46875, 'learning_rate': 2.42e-06, 'memory(GiB)': 10.61, 'train_speed(iter/s)': 0.139734, 'epoch': 0.69, 'global_step/max_steps': '320/464', 'percentage': '68.97%', 'elapsed_time': '38m 9s', 'remaining_time': '17m 10s'}\n",
      "{'loss': 0.76181216, 'acc': 0.78443646, 'grad_norm': 5.5, 'learning_rate': 2.27e-06, 'memory(GiB)': 10.61, 'train_speed(iter/s)': 0.13961, 'epoch': 0.7, 'global_step/max_steps': '325/464', 'percentage': '70.04%', 'elapsed_time': '38m 47s', 'remaining_time': '16m 35s'}\n",
      "{'loss': 0.66597605, 'acc': 0.78714051, 'grad_norm': 5.96875, 'learning_rate': 2.12e-06, 'memory(GiB)': 10.61, 'train_speed(iter/s)': 0.139693, 'epoch': 0.71, 'global_step/max_steps': '330/464', 'percentage': '71.12%', 'elapsed_time': '39m 21s', 'remaining_time': '15m 58s'}\n",
      "{'loss': 0.72833061, 'acc': 0.78086238, 'grad_norm': 5.0, 'learning_rate': 1.98e-06, 'memory(GiB)': 10.61, 'train_speed(iter/s)': 0.139646, 'epoch': 0.72, 'global_step/max_steps': '335/464', 'percentage': '72.20%', 'elapsed_time': '39m 58s', 'remaining_time': '15m 23s'}\n",
      "{'loss': 0.7339407, 'acc': 0.79089503, 'grad_norm': 4.375, 'learning_rate': 1.83e-06, 'memory(GiB)': 10.61, 'train_speed(iter/s)': 0.139725, 'epoch': 0.73, 'global_step/max_steps': '340/464', 'percentage': '73.28%', 'elapsed_time': '40m 32s', 'remaining_time': '14m 47s'}\n",
      "{'loss': 0.72177582, 'acc': 0.79072604, 'grad_norm': 6.4375, 'learning_rate': 1.7e-06, 'memory(GiB)': 10.61, 'train_speed(iter/s)': 0.1398, 'epoch': 0.74, 'global_step/max_steps': '345/464', 'percentage': '74.35%', 'elapsed_time': '41m 7s', 'remaining_time': '14m 10s'}\n",
      "{'loss': 0.70803766, 'acc': 0.79203219, 'grad_norm': 4.84375, 'learning_rate': 1.57e-06, 'memory(GiB)': 10.61, 'train_speed(iter/s)': 0.13982, 'epoch': 0.75, 'global_step/max_steps': '350/464', 'percentage': '75.43%', 'elapsed_time': '41m 42s', 'remaining_time': '13m 35s'}\n",
      "{'loss': 0.71030455, 'acc': 0.78782673, 'grad_norm': 6.15625, 'learning_rate': 1.44e-06, 'memory(GiB)': 10.61, 'train_speed(iter/s)': 0.139705, 'epoch': 0.76, 'global_step/max_steps': '355/464', 'percentage': '76.51%', 'elapsed_time': '42m 20s', 'remaining_time': '13m 0s'}\n",
      "{'loss': 0.70138788, 'acc': 0.79558845, 'grad_norm': 4.6875, 'learning_rate': 1.32e-06, 'memory(GiB)': 10.61, 'train_speed(iter/s)': 0.139617, 'epoch': 0.78, 'global_step/max_steps': '360/464', 'percentage': '77.59%', 'elapsed_time': '42m 57s', 'remaining_time': '12m 24s'}\n",
      "{'loss': 0.75122313, 'acc': 0.77390366, 'grad_norm': 3.984375, 'learning_rate': 1.2e-06, 'memory(GiB)': 10.61, 'train_speed(iter/s)': 0.139668, 'epoch': 0.79, 'global_step/max_steps': '365/464', 'percentage': '78.66%', 'elapsed_time': '43m 32s', 'remaining_time': '11m 48s'}\n",
      "{'loss': 0.70873666, 'acc': 0.7810914, 'grad_norm': 5.59375, 'learning_rate': 1.08e-06, 'memory(GiB)': 10.61, 'train_speed(iter/s)': 0.139752, 'epoch': 0.8, 'global_step/max_steps': '370/464', 'percentage': '79.74%', 'elapsed_time': '44m 6s', 'remaining_time': '11m 12s'}\n",
      "{'loss': 0.64541197, 'acc': 0.8000494, 'grad_norm': 5.21875, 'learning_rate': 9.8e-07, 'memory(GiB)': 10.61, 'train_speed(iter/s)': 0.139721, 'epoch': 0.81, 'global_step/max_steps': '375/464', 'percentage': '80.82%', 'elapsed_time': '44m 43s', 'remaining_time': '10m 36s'}\n",
      "{'loss': 0.77352457, 'acc': 0.78015308, 'grad_norm': 5.71875, 'learning_rate': 8.7e-07, 'memory(GiB)': 10.61, 'train_speed(iter/s)': 0.139694, 'epoch': 0.82, 'global_step/max_steps': '380/464', 'percentage': '81.90%', 'elapsed_time': '45m 19s', 'remaining_time': '10m 1s'}\n",
      "{'loss': 0.66219349, 'acc': 0.8030056, 'grad_norm': 5.4375, 'learning_rate': 7.7e-07, 'memory(GiB)': 10.61, 'train_speed(iter/s)': 0.139646, 'epoch': 0.83, 'global_step/max_steps': '385/464', 'percentage': '82.97%', 'elapsed_time': '45m 56s', 'remaining_time': '9m 25s'}\n",
      "{'loss': 0.79816475, 'acc': 0.77005272, 'grad_norm': 5.78125, 'learning_rate': 6.8e-07, 'memory(GiB)': 10.61, 'train_speed(iter/s)': 0.13976, 'epoch': 0.84, 'global_step/max_steps': '390/464', 'percentage': '84.05%', 'elapsed_time': '46m 29s', 'remaining_time': '8m 49s'}\n",
      "{'loss': 0.76652136, 'acc': 0.77433057, 'grad_norm': 5.75, 'learning_rate': 5.9e-07, 'memory(GiB)': 10.61, 'train_speed(iter/s)': 0.139758, 'epoch': 0.85, 'global_step/max_steps': '395/464', 'percentage': '85.13%', 'elapsed_time': '47m 5s', 'remaining_time': '8m 13s'}\n",
      "{'loss': 0.70862789, 'acc': 0.7874331, 'grad_norm': 4.8125, 'learning_rate': 5.1e-07, 'memory(GiB)': 10.61, 'train_speed(iter/s)': 0.139706, 'epoch': 0.86, 'global_step/max_steps': '400/464', 'percentage': '86.21%', 'elapsed_time': '47m 42s', 'remaining_time': '7m 38s'}\n",
      "\n"
     ]
    },
    {
     "data": {
      "application/vnd.jupyter.widget-view+json": {
       "model_id": "ca4df67f66da49db89d3586a5b96ac18",
       "version_major": 2,
       "version_minor": 0
      },
      "text/plain": [
       "Val:   0%|          | 0/75 [00:00<?, ?it/s]"
      ]
     },
     "metadata": {},
     "output_type": "display_data"
    },
    {
     "name": "stdout",
     "output_type": "stream",
     "text": [
      "{'eval_loss': 0.69657844, 'eval_acc': 0.82035893, 'eval_runtime': 10.0086, 'eval_samples_per_second': 7.494, 'eval_steps_per_second': 7.494, 'epoch': 0.86, 'global_step/max_steps': '400/464', 'percentage': '86.21%', 'elapsed_time': '47m 52s', 'remaining_time': '7m 39s'}\n"
     ]
    },
    {
     "name": "stderr",
     "output_type": "stream",
     "text": [
      "Trainer.tokenizer is now deprecated. You should use Trainer.processing_class instead.\n",
      "Trainer.tokenizer is now deprecated. You should use Trainer.processing_class instead.\n",
      "Trainer.tokenizer is now deprecated. You should use Trainer.processing_class instead.\n",
      "[INFO:swift] Saving model checkpoint to /mnt/workspace/output/qwen2_5-0_5b-instruct/v1-20241207-153823/checkpoint-400\n"
     ]
    },
    {
     "name": "stdout",
     "output_type": "stream",
     "text": [
      "{'loss': 0.65712028, 'acc': 0.79932156, 'grad_norm': 4.46875, 'learning_rate': 4.4e-07, 'memory(GiB)': 10.61, 'train_speed(iter/s)': 0.13904, 'epoch': 0.87, 'global_step/max_steps': '405/464', 'percentage': '87.28%', 'elapsed_time': '48m 32s', 'remaining_time': '7m 4s'}\n",
      "{'loss': 0.73294439, 'acc': 0.78424091, 'grad_norm': 6.28125, 'learning_rate': 3.7e-07, 'memory(GiB)': 10.61, 'train_speed(iter/s)': 0.138907, 'epoch': 0.88, 'global_step/max_steps': '410/464', 'percentage': '88.36%', 'elapsed_time': '49m 10s', 'remaining_time': '6m 28s'}\n",
      "{'loss': 0.73445945, 'acc': 0.78805285, 'grad_norm': 6.15625, 'learning_rate': 3e-07, 'memory(GiB)': 10.61, 'train_speed(iter/s)': 0.138901, 'epoch': 0.89, 'global_step/max_steps': '415/464', 'percentage': '89.44%', 'elapsed_time': '49m 47s', 'remaining_time': '5m 52s'}\n",
      "{'loss': 0.67354326, 'acc': 0.78696442, 'grad_norm': 5.28125, 'learning_rate': 2.4e-07, 'memory(GiB)': 10.61, 'train_speed(iter/s)': 0.138971, 'epoch': 0.91, 'global_step/max_steps': '420/464', 'percentage': '90.52%', 'elapsed_time': '50m 21s', 'remaining_time': '5m 16s'}\n",
      "{'loss': 0.73884406, 'acc': 0.78934908, 'grad_norm': 5.15625, 'learning_rate': 1.9e-07, 'memory(GiB)': 10.61, 'train_speed(iter/s)': 0.138964, 'epoch': 0.92, 'global_step/max_steps': '425/464', 'percentage': '91.59%', 'elapsed_time': '50m 57s', 'remaining_time': '4m 40s'}\n",
      "{'loss': 0.75921698, 'acc': 0.78081899, 'grad_norm': 5.03125, 'learning_rate': 1.5e-07, 'memory(GiB)': 10.61, 'train_speed(iter/s)': 0.13913, 'epoch': 0.93, 'global_step/max_steps': '430/464', 'percentage': '92.67%', 'elapsed_time': '51m 30s', 'remaining_time': '4m 4s'}\n",
      "{'loss': 0.72673059, 'acc': 0.7823257, 'grad_norm': 5.34375, 'learning_rate': 1.1e-07, 'memory(GiB)': 10.61, 'train_speed(iter/s)': 0.139184, 'epoch': 0.94, 'global_step/max_steps': '435/464', 'percentage': '93.75%', 'elapsed_time': '52m 4s', 'remaining_time': '3m 28s'}\n",
      "{'loss': 0.77013655, 'acc': 0.77793231, 'grad_norm': 5.09375, 'learning_rate': 7e-08, 'memory(GiB)': 10.61, 'train_speed(iter/s)': 0.139154, 'epoch': 0.95, 'global_step/max_steps': '440/464', 'percentage': '94.83%', 'elapsed_time': '52m 41s', 'remaining_time': '2m 52s'}\n",
      "{'loss': 0.70235877, 'acc': 0.78325639, 'grad_norm': 4.90625, 'learning_rate': 5e-08, 'memory(GiB)': 10.61, 'train_speed(iter/s)': 0.13911, 'epoch': 0.96, 'global_step/max_steps': '445/464', 'percentage': '95.91%', 'elapsed_time': '53m 18s', 'remaining_time': '2m 16s'}\n",
      "{'loss': 0.66237507, 'acc': 0.79279137, 'grad_norm': 4.625, 'learning_rate': 2e-08, 'memory(GiB)': 10.61, 'train_speed(iter/s)': 0.139111, 'epoch': 0.97, 'global_step/max_steps': '450/464', 'percentage': '96.98%', 'elapsed_time': '53m 54s', 'remaining_time': '1m 40s'}\n",
      "{'loss': 0.72651391, 'acc': 0.77976222, 'grad_norm': 4.625, 'learning_rate': 1e-08, 'memory(GiB)': 10.61, 'train_speed(iter/s)': 0.139063, 'epoch': 0.98, 'global_step/max_steps': '455/464', 'percentage': '98.06%', 'elapsed_time': '54m 31s', 'remaining_time': '1m 4s'}\n",
      "{'loss': 0.73036928, 'acc': 0.78871651, 'grad_norm': 4.5, 'learning_rate': 0.0, 'memory(GiB)': 10.61, 'train_speed(iter/s)': 0.139176, 'epoch': 0.99, 'global_step/max_steps': '460/464', 'percentage': '99.14%', 'elapsed_time': '55m 4s', 'remaining_time': '28s'}\n",
      "\n"
     ]
    },
    {
     "data": {
      "application/vnd.jupyter.widget-view+json": {
       "model_id": "1fb52fb1dcc44faaaf4e9942f47f7db3",
       "version_major": 2,
       "version_minor": 0
      },
      "text/plain": [
       "Val:   0%|          | 0/75 [00:00<?, ?it/s]"
      ]
     },
     "metadata": {},
     "output_type": "display_data"
    },
    {
     "name": "stdout",
     "output_type": "stream",
     "text": [
      "{'eval_loss': 0.69569194, 'eval_acc': 0.81994704, 'eval_runtime': 9.9632, 'eval_samples_per_second': 7.528, 'eval_steps_per_second': 7.528, 'epoch': 1.0, 'global_step/max_steps': '464/464', 'percentage': '100.00%', 'elapsed_time': '55m 43s', 'remaining_time': '0s'}\n"
     ]
    },
    {
     "name": "stderr",
     "output_type": "stream",
     "text": [
      "Trainer.tokenizer is now deprecated. You should use Trainer.processing_class instead.\n",
      "Trainer.tokenizer is now deprecated. You should use Trainer.processing_class instead.\n",
      "Trainer.tokenizer is now deprecated. You should use Trainer.processing_class instead.\n",
      "[INFO:swift] Saving model checkpoint to /mnt/workspace/output/qwen2_5-0_5b-instruct/v1-20241207-153823/checkpoint-464\n",
      "[INFO:swift] last_model_checkpoint: /mnt/workspace/output/qwen2_5-0_5b-instruct/v1-20241207-153823/checkpoint-464\n",
      "[INFO:swift] best_model_checkpoint: /mnt/workspace/output/qwen2_5-0_5b-instruct/v1-20241207-153823/checkpoint-464\n",
      "[INFO:swift] images_dir: /mnt/workspace/output/qwen2_5-0_5b-instruct/v1-20241207-153823/images\n"
     ]
    },
    {
     "name": "stdout",
     "output_type": "stream",
     "text": [
      "{'train_runtime': 3348.4523, 'train_samples_per_second': 2.217, 'train_steps_per_second': 0.139, 'train_loss': 0.72626422, 'epoch': 1.0, 'global_step/max_steps': '464/464', 'percentage': '100.00%', 'elapsed_time': '55m 48s', 'remaining_time': '0s'}\n"
     ]
    },
    {
     "name": "stderr",
     "output_type": "stream",
     "text": [
      "[INFO:swift] End time of running main: 2024-12-07 16:34:40.772942\n"
     ]
    }
   ],
   "source": [
    "model_type = ModelType.qwen2_5_0_5b_instruct\n",
    "sft_args = SftArguments(\n",
    "    model_type=model_type,\n",
    "    dataset=['MATH_train_fineture.jsonl'],\n",
    "    output_dir='output',\n",
    "    max_length=4096,\n",
    "    sft_type = 'full',\n",
    "    \n",
    "    )\n",
    "result = sft_main(sft_args)\n",
    "last_model_checkpoint = result['last_model_checkpoint']"
   ]
  }
 ],
 "metadata": {
  "kernelspec": {
   "display_name": "Python 3",
   "language": "python",
   "name": "python3"
  },
  "language_info": {
   "codemirror_mode": {
    "name": "ipython",
    "version": 3
   },
   "file_extension": ".py",
   "mimetype": "text/x-python",
   "name": "python",
   "nbconvert_exporter": "python",
   "pygments_lexer": "ipython3",
   "version": "3.11.2"
  }
 },
 "nbformat": 4,
 "nbformat_minor": 4
}
